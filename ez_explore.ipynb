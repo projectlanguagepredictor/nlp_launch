{
 "cells": [
  {
   "cell_type": "code",
   "execution_count": 1,
   "id": "7a3f0bec",
   "metadata": {},
   "outputs": [],
   "source": [
    "#my modules\n",
    "import acquire as ac\n",
    "\n",
    "#standard\n",
    "import pandas as pd\n",
    "import numpy as np\n",
    "\n",
    "#scraping\n",
    "import requests\n",
    "from requests import get\n",
    "from bs4 import BeautifulSoup\n",
    "\n",
    "#file\n",
    "import os\n",
    "import json\n",
    "\n",
    "import ez_env\n",
    "import acquire as aa\n",
    "import ez_prepare as ep"
   ]
  },
  {
   "cell_type": "code",
   "execution_count": 2,
   "id": "913fe02b",
   "metadata": {},
   "outputs": [],
   "source": [
    "#establishing url link to awesome lists that I want to scrape\n",
    "url = 'https://github.com/topics/awesome?o=desc&s=stars'"
   ]
  },
  {
   "cell_type": "code",
   "execution_count": 3,
   "id": "a41b5b35",
   "metadata": {},
   "outputs": [
    {
     "data": {
      "text/plain": [
       "<Response [200]>"
      ]
     },
     "execution_count": 3,
     "metadata": {},
     "output_type": "execute_result"
    }
   ],
   "source": [
    "#pinging site to check if access is granted\n",
    "response = get(url)\n",
    "response"
   ]
  },
  {
   "cell_type": "code",
   "execution_count": null,
   "id": "980bc123",
   "metadata": {},
   "outputs": [],
   "source": []
  },
  {
   "cell_type": "code",
   "execution_count": null,
   "id": "93280050",
   "metadata": {},
   "outputs": [],
   "source": []
  }
 ],
 "metadata": {
  "kernelspec": {
   "display_name": "Python 3 (ipykernel)",
   "language": "python",
   "name": "python3"
  },
  "language_info": {
   "codemirror_mode": {
    "name": "ipython",
    "version": 3
   },
   "file_extension": ".py",
   "mimetype": "text/x-python",
   "name": "python",
   "nbconvert_exporter": "python",
   "pygments_lexer": "ipython3",
   "version": "3.9.13"
  }
 },
 "nbformat": 4,
 "nbformat_minor": 5
}
