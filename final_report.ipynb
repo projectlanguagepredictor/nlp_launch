{
 "cells": [
  {
   "cell_type": "markdown",
   "id": "9a6b11c4",
   "metadata": {},
   "source": [
    "# NLP Launch: Natural Language Predictor Project"
   ]
  },
  {
   "cell_type": "markdown",
   "id": "4e9eaaac",
   "metadata": {},
   "source": [
    "## Goal: \n",
    "* The project goal is to predict which programming language is used based solely on GitHub README's. \n",
    "* This analysis aims to address the listed questions and uncover any additional important findings related goal."
   ]
  },
  {
   "cell_type": "markdown",
   "id": "d4962439",
   "metadata": {},
   "source": [
    "## Imports"
   ]
  },
  {
   "cell_type": "code",
   "execution_count": 1,
   "id": "d815a0f8",
   "metadata": {},
   "outputs": [
    {
     "name": "stdout",
     "output_type": "stream",
     "text": [
      "json file found and loaded\n",
      "imports loaded successfully, awaiting commands...\n"
     ]
    }
   ],
   "source": [
    "#.py modules\n",
    "import acquire as ac\n",
    "import prepare as pp\n",
    "import explore as ex\n",
    "import evaluate as ev\n",
    "\n",
    "#standard\n",
    "import pandas as pd\n",
    "import numpy as np\n",
    "import re\n",
    "\n",
    "#scraping\n",
    "import requests\n",
    "from requests import get\n",
    "from bs4 import BeautifulSoup\n",
    "\n",
    "#file\n",
    "import os\n",
    "import json\n",
    "\n",
    "#vizz\n",
    "import seaborn as sns\n",
    "import matplotlib.pyplot as plt\n",
    "from wordcloud import WordCloud\n",
    "\n",
    "#preprocess\n",
    "from sklearn.feature_extraction.text import CountVectorizer, TfidfVectorizer\n",
    "\n",
    "#split and model\n",
    "from sklearn.model_selection import train_test_split\n",
    "from sklearn.tree import DecisionTreeClassifier\n",
    "from sklearn.neighbors import KNeighborsClassifier\n",
    "\n",
    "#set random state\n",
    "random_state=123\n",
    "\n",
    "#ignore warnings\n",
    "import warnings\n",
    "warnings.filterwarnings(\"ignore\")"
   ]
  },
  {
   "cell_type": "markdown",
   "id": "fe383836",
   "metadata": {},
   "source": [
    "> # `Acquire`"
   ]
  },
  {
   "cell_type": "markdown",
   "id": "293fb904",
   "metadata": {
    "jp-MarkdownHeadingCollapsed": true,
    "tags": []
   },
   "source": [
    "### Acquire\n",
    "* Data acquired from GitHub using Selenium\n",
    "    * env.py credentials used to access GitHub\n",
    "* 740 rows × 1 column before cleaning\n",
    "* 740 rows × 3 columns after cleaning and acquiring READMEs"
   ]
  },
  {
   "cell_type": "markdown",
   "id": "52f349b8",
   "metadata": {},
   "source": [
    "\n",
    "### Data Dictionary"
   ]
  },
  {
   "cell_type": "markdown",
   "id": "5e7af5c5",
   "metadata": {},
   "source": [
    "| Feature | Definition|\n",
    "|:--------|:-----------|\n",
    "|repo| The 'author name/repo name' of the repo|\n",
    "|language| The repo language used|\n",
    "|readme| The cleaned contents of unqiue READMEs|"
   ]
  },
  {
   "cell_type": "code",
   "execution_count": 2,
   "id": "d3eb2022",
   "metadata": {},
   "outputs": [
    {
     "name": "stdout",
     "output_type": "stream",
     "text": [
      "json file found and loaded\n"
     ]
    }
   ],
   "source": [
    "#get repo authors and names\n",
    "click_data = ac.button_click()"
   ]
  },
  {
   "cell_type": "code",
   "execution_count": 6,
   "id": "e4068e17-5a3e-4ec4-a88f-89cc8f30ebac",
   "metadata": {},
   "outputs": [
    {
     "data": {
      "text/html": [
       "<div>\n",
       "<style scoped>\n",
       "    .dataframe tbody tr th:only-of-type {\n",
       "        vertical-align: middle;\n",
       "    }\n",
       "\n",
       "    .dataframe tbody tr th {\n",
       "        vertical-align: top;\n",
       "    }\n",
       "\n",
       "    .dataframe thead th {\n",
       "        text-align: right;\n",
       "    }\n",
       "</style>\n",
       "<table border=\"1\" class=\"dataframe\">\n",
       "  <thead>\n",
       "    <tr style=\"text-align: right;\">\n",
       "      <th></th>\n",
       "      <th>string</th>\n",
       "    </tr>\n",
       "  </thead>\n",
       "  <tbody>\n",
       "    <tr>\n",
       "      <th>0</th>\n",
       "      <td>sindresorhus / awesome</td>\n",
       "    </tr>\n",
       "    <tr>\n",
       "      <th>1</th>\n",
       "      <td>vinta / awesome-python</td>\n",
       "    </tr>\n",
       "    <tr>\n",
       "      <th>2</th>\n",
       "      <td>awesome-selfhosted / awesome-selfhosted</td>\n",
       "    </tr>\n",
       "    <tr>\n",
       "      <th>3</th>\n",
       "      <td>avelino / awesome-go</td>\n",
       "    </tr>\n",
       "    <tr>\n",
       "      <th>4</th>\n",
       "      <td>trimstray / the-book-of-secret-knowledge</td>\n",
       "    </tr>\n",
       "  </tbody>\n",
       "</table>\n",
       "</div>"
      ],
      "text/plain": [
       "                                     string\n",
       "0                    sindresorhus / awesome\n",
       "1                    vinta / awesome-python\n",
       "2   awesome-selfhosted / awesome-selfhosted\n",
       "3                      avelino / awesome-go\n",
       "4  trimstray / the-book-of-secret-knowledge"
      ]
     },
     "execution_count": 6,
     "metadata": {},
     "output_type": "execute_result"
    }
   ],
   "source": [
    "#quick peek\n",
    "click_data.head()"
   ]
  },
  {
   "cell_type": "code",
   "execution_count": 3,
   "id": "a6a4e35b-481a-4ff9-8654-d541fbfb1e8a",
   "metadata": {},
   "outputs": [
    {
     "name": "stdout",
     "output_type": "stream",
     "text": [
      "json file found and loaded\n"
     ]
    }
   ],
   "source": [
    "#get readme contents and add to click_data\n",
    "scraped = ac.get_scraped_data()"
   ]
  },
  {
   "cell_type": "code",
   "execution_count": 7,
   "id": "6a5d4b7c-6fab-4af0-b447-77f64a5270f2",
   "metadata": {},
   "outputs": [
    {
     "data": {
      "text/html": [
       "<div>\n",
       "<style scoped>\n",
       "    .dataframe tbody tr th:only-of-type {\n",
       "        vertical-align: middle;\n",
       "    }\n",
       "\n",
       "    .dataframe tbody tr th {\n",
       "        vertical-align: top;\n",
       "    }\n",
       "\n",
       "    .dataframe thead th {\n",
       "        text-align: right;\n",
       "    }\n",
       "</style>\n",
       "<table border=\"1\" class=\"dataframe\">\n",
       "  <thead>\n",
       "    <tr style=\"text-align: right;\">\n",
       "      <th></th>\n",
       "      <th>repo</th>\n",
       "      <th>language</th>\n",
       "      <th>readme_contents</th>\n",
       "      <th>clean</th>\n",
       "      <th>readme</th>\n",
       "    </tr>\n",
       "  </thead>\n",
       "  <tbody>\n",
       "    <tr>\n",
       "      <th>0</th>\n",
       "      <td>sindresorhus/awesome</td>\n",
       "      <td>None</td>\n",
       "      <td>&lt;div align=\"center\"&gt;\\n\\t&lt;a href=\"https://vshym...</td>\n",
       "      <td>div align center href https vshymanskyy standw...</td>\n",
       "      <td>div align center href http vshymanskyy standwi...</td>\n",
       "    </tr>\n",
       "    <tr>\n",
       "      <th>1</th>\n",
       "      <td>vinta/awesome-python</td>\n",
       "      <td>Python</td>\n",
       "      <td># Awesome Python [![Awesome](https://cdn.rawgi...</td>\n",
       "      <td>awesome python awesome https cdn rawgit sindre...</td>\n",
       "      <td>awesome python awesome http cdn rawgit sindres...</td>\n",
       "    </tr>\n",
       "    <tr>\n",
       "      <th>2</th>\n",
       "      <td>awesome-selfhosted/awesome-selfhosted</td>\n",
       "      <td>Makefile</td>\n",
       "      <td># Awesome-Selfhosted\\n\\n[![Awesome](https://cd...</td>\n",
       "      <td>awesome selfhosted awesome https cdn jsdelivr ...</td>\n",
       "      <td>awesome selfhosted awesome http cdn jsdelivr n...</td>\n",
       "    </tr>\n",
       "    <tr>\n",
       "      <th>3</th>\n",
       "      <td>avelino/awesome-go</td>\n",
       "      <td>Go</td>\n",
       "      <td># Awesome Go\\n\\n&lt;a href=\"https://awesome-go.co...</td>\n",
       "      <td>awesome go href https awesome go img align rig...</td>\n",
       "      <td>awesome go href http awesome go img align righ...</td>\n",
       "    </tr>\n",
       "    <tr>\n",
       "      <th>4</th>\n",
       "      <td>trimstray/the-book-of-secret-knowledge</td>\n",
       "      <td>None</td>\n",
       "      <td>&lt;p align=\"center\"&gt;\\n  &lt;a href=\"https://github....</td>\n",
       "      <td>p align center href https trimstray book secre...</td>\n",
       "      <td>p align center href http trimstray book secret...</td>\n",
       "    </tr>\n",
       "  </tbody>\n",
       "</table>\n",
       "</div>"
      ],
      "text/plain": [
       "                                     repo  language  \\\n",
       "0                    sindresorhus/awesome      None   \n",
       "1                    vinta/awesome-python    Python   \n",
       "2   awesome-selfhosted/awesome-selfhosted  Makefile   \n",
       "3                      avelino/awesome-go        Go   \n",
       "4  trimstray/the-book-of-secret-knowledge      None   \n",
       "\n",
       "                                     readme_contents  \\\n",
       "0  <div align=\"center\">\\n\\t<a href=\"https://vshym...   \n",
       "1  # Awesome Python [![Awesome](https://cdn.rawgi...   \n",
       "2  # Awesome-Selfhosted\\n\\n[![Awesome](https://cd...   \n",
       "3  # Awesome Go\\n\\n<a href=\"https://awesome-go.co...   \n",
       "4  <p align=\"center\">\\n  <a href=\"https://github....   \n",
       "\n",
       "                                               clean  \\\n",
       "0  div align center href https vshymanskyy standw...   \n",
       "1  awesome python awesome https cdn rawgit sindre...   \n",
       "2  awesome selfhosted awesome https cdn jsdelivr ...   \n",
       "3  awesome go href https awesome go img align rig...   \n",
       "4  p align center href https trimstray book secre...   \n",
       "\n",
       "                                              readme  \n",
       "0  div align center href http vshymanskyy standwi...  \n",
       "1  awesome python awesome http cdn rawgit sindres...  \n",
       "2  awesome selfhosted awesome http cdn jsdelivr n...  \n",
       "3  awesome go href http awesome go img align righ...  \n",
       "4  p align center href http trimstray book secret...  "
      ]
     },
     "execution_count": 7,
     "metadata": {},
     "output_type": "execute_result"
    }
   ],
   "source": [
    "#quick peek\n",
    "scraped.head()"
   ]
  },
  {
   "cell_type": "markdown",
   "id": "8ce5b2ae-7125-42cd-aa37-de136bd6a6b1",
   "metadata": {},
   "source": [
    "<div class=\"alert alert-success\">    \n",
    "\n",
    "### Insight: \n",
    "    \n",
    "Two dataframes were pulled back. \n",
    "    <br>\n",
    "* The first df was created using Selenium to scrape for repo author/repo names. Selenium was used to prevent duplication of repos by loading the entire page requested and then scraping versus having to refresh after each page selection.\n",
    "    <br>\n",
    "* The second df was created using the return of the the first df by plugging in the scraped repo author/repo names into the acquire.py function to scrape each README associated with that unique identifier.\n",
    "</div>"
   ]
  },
  {
   "cell_type": "markdown",
   "id": "35088ea5-7ed2-4abf-b862-96c457659ea6",
   "metadata": {},
   "source": [
    "> # `Prepare`"
   ]
  },
  {
   "cell_type": "markdown",
   "id": "fb256470",
   "metadata": {
    "tags": []
   },
   "source": [
    "### Prepare\n",
    "* No duplicates\n",
    "* No nulls\n",
    "* Changed languages that are not 'Python', 'JavaScript', 'HTML', 'Shell', 'Java', or 'Go' to 'other'\n",
    "    * other = 599\n",
    "* Cleaned all text using\n",
    "    * prepare.py functions\n",
    "* Additional Stopwords used to account for all word fractions leftover from the cleaning process to get as close as possible to all true words"
   ]
  },
  {
   "cell_type": "code",
   "execution_count": 4,
   "id": "1b93d38b-94e6-4d35-b669-6cfb479f7426",
   "metadata": {},
   "outputs": [],
   "source": [
    "#clean\n",
    "df = pp.clean_df(scraped, 'readme_contents')"
   ]
  },
  {
   "cell_type": "code",
   "execution_count": 5,
   "id": "5a0bbe91-6633-4235-b788-ca16a29861cc",
   "metadata": {},
   "outputs": [
    {
     "data": {
      "text/html": [
       "<div>\n",
       "<style scoped>\n",
       "    .dataframe tbody tr th:only-of-type {\n",
       "        vertical-align: middle;\n",
       "    }\n",
       "\n",
       "    .dataframe tbody tr th {\n",
       "        vertical-align: top;\n",
       "    }\n",
       "\n",
       "    .dataframe thead th {\n",
       "        text-align: right;\n",
       "    }\n",
       "</style>\n",
       "<table border=\"1\" class=\"dataframe\">\n",
       "  <thead>\n",
       "    <tr style=\"text-align: right;\">\n",
       "      <th></th>\n",
       "      <th>repo</th>\n",
       "      <th>language</th>\n",
       "      <th>readme</th>\n",
       "    </tr>\n",
       "  </thead>\n",
       "  <tbody>\n",
       "    <tr>\n",
       "      <th>0</th>\n",
       "      <td>sindresorhus/awesome</td>\n",
       "      <td>other</td>\n",
       "      <td>div align center href http vshymanskyy standwi...</td>\n",
       "    </tr>\n",
       "    <tr>\n",
       "      <th>1</th>\n",
       "      <td>vinta/awesome-python</td>\n",
       "      <td>python</td>\n",
       "      <td>awesome python awesome http cdn rawgit sindres...</td>\n",
       "    </tr>\n",
       "    <tr>\n",
       "      <th>2</th>\n",
       "      <td>awesome-selfhosted/awesome-selfhosted</td>\n",
       "      <td>other</td>\n",
       "      <td>awesome selfhosted awesome http cdn jsdelivr n...</td>\n",
       "    </tr>\n",
       "    <tr>\n",
       "      <th>3</th>\n",
       "      <td>avelino/awesome-go</td>\n",
       "      <td>go</td>\n",
       "      <td>awesome go href http awesome go img align righ...</td>\n",
       "    </tr>\n",
       "    <tr>\n",
       "      <th>4</th>\n",
       "      <td>trimstray/the-book-of-secret-knowledge</td>\n",
       "      <td>other</td>\n",
       "      <td>p align center href http trimstray book secret...</td>\n",
       "    </tr>\n",
       "  </tbody>\n",
       "</table>\n",
       "</div>"
      ],
      "text/plain": [
       "                                     repo language  \\\n",
       "0                    sindresorhus/awesome    other   \n",
       "1                    vinta/awesome-python   python   \n",
       "2   awesome-selfhosted/awesome-selfhosted    other   \n",
       "3                      avelino/awesome-go       go   \n",
       "4  trimstray/the-book-of-secret-knowledge    other   \n",
       "\n",
       "                                              readme  \n",
       "0  div align center href http vshymanskyy standwi...  \n",
       "1  awesome python awesome http cdn rawgit sindres...  \n",
       "2  awesome selfhosted awesome http cdn jsdelivr n...  \n",
       "3  awesome go href http awesome go img align righ...  \n",
       "4  p align center href http trimstray book secret...  "
      ]
     },
     "execution_count": 5,
     "metadata": {},
     "output_type": "execute_result"
    }
   ],
   "source": [
    "#quick peek\n",
    "df.head()"
   ]
  },
  {
   "cell_type": "markdown",
   "id": "5043bf67-c427-4c60-9c73-e7f2ae9eb849",
   "metadata": {},
   "source": [
    "<div class=\"alert alert-success\">    \n",
    "\n",
    "### Insight: \n",
    "    \n",
    "Prepare involved creating a single df from both \n",
    "</div>"
   ]
  },
  {
   "cell_type": "markdown",
   "id": "d39e2f6f",
   "metadata": {},
   "source": [
    "> # `Explore`"
   ]
  },
  {
   "cell_type": "markdown",
   "id": "bd991117",
   "metadata": {},
   "source": [
    "### Counts and Frequencies\n",
    "*\n",
    "\n",
    "\n",
    "### Questions To Answer:\n",
    "1. What are the most common words in READMEs?\n",
    "2. Does the length of the README vary by programming language?\n",
    "3. Do different programming languages use a different number of unique words?\n",
    "4. Are there any words that uniquely identify a programming language?"
   ]
  },
  {
   "cell_type": "markdown",
   "id": "07bb7a10-dc65-4252-ab1c-ae0a6cdc72ce",
   "metadata": {},
   "source": [
    "## Counts and Frequencies"
   ]
  },
  {
   "cell_type": "code",
   "execution_count": 9,
   "id": "065a4397-6a9d-41b4-9c00-8eb202bdaefc",
   "metadata": {},
   "outputs": [],
   "source": [
    "#counts and frequencies of languages\n",
    "freq = ex.show_counts_and_ratios(df, 'language')"
   ]
  },
  {
   "cell_type": "code",
   "execution_count": 10,
   "id": "6de01486-7e76-4775-a3b3-528aba1ee33a",
   "metadata": {},
   "outputs": [
    {
     "data": {
      "text/html": [
       "<div>\n",
       "<style scoped>\n",
       "    .dataframe tbody tr th:only-of-type {\n",
       "        vertical-align: middle;\n",
       "    }\n",
       "\n",
       "    .dataframe tbody tr th {\n",
       "        vertical-align: top;\n",
       "    }\n",
       "\n",
       "    .dataframe thead th {\n",
       "        text-align: right;\n",
       "    }\n",
       "</style>\n",
       "<table border=\"1\" class=\"dataframe\">\n",
       "  <thead>\n",
       "    <tr style=\"text-align: right;\">\n",
       "      <th></th>\n",
       "      <th>n</th>\n",
       "      <th>percent</th>\n",
       "    </tr>\n",
       "  </thead>\n",
       "  <tbody>\n",
       "    <tr>\n",
       "      <th>other</th>\n",
       "      <td>599</td>\n",
       "      <td>0.81</td>\n",
       "    </tr>\n",
       "    <tr>\n",
       "      <th>python</th>\n",
       "      <td>40</td>\n",
       "      <td>0.05</td>\n",
       "    </tr>\n",
       "    <tr>\n",
       "      <th>javascript</th>\n",
       "      <td>36</td>\n",
       "      <td>0.05</td>\n",
       "    </tr>\n",
       "    <tr>\n",
       "      <th>html</th>\n",
       "      <td>25</td>\n",
       "      <td>0.03</td>\n",
       "    </tr>\n",
       "    <tr>\n",
       "      <th>shell</th>\n",
       "      <td>19</td>\n",
       "      <td>0.03</td>\n",
       "    </tr>\n",
       "    <tr>\n",
       "      <th>java</th>\n",
       "      <td>11</td>\n",
       "      <td>0.01</td>\n",
       "    </tr>\n",
       "    <tr>\n",
       "      <th>go</th>\n",
       "      <td>10</td>\n",
       "      <td>0.01</td>\n",
       "    </tr>\n",
       "  </tbody>\n",
       "</table>\n",
       "</div>"
      ],
      "text/plain": [
       "              n  percent\n",
       "other       599     0.81\n",
       "python       40     0.05\n",
       "javascript   36     0.05\n",
       "html         25     0.03\n",
       "shell        19     0.03\n",
       "java         11     0.01\n",
       "go           10     0.01"
      ]
     },
     "execution_count": 10,
     "metadata": {},
     "output_type": "execute_result"
    }
   ],
   "source": [
    "#quick peek\n",
    "freq"
   ]
  },
  {
   "cell_type": "markdown",
   "id": "98864fcb-8775-4586-b1f7-b691d321cd10",
   "metadata": {},
   "source": [
    "<div class=\"alert alert-success\">    \n",
    "\n",
    "### Insight: \n",
    "    \n",
    "'Other' accounts for 81% of languages in the READMEs pulled. This will become our baseline for the classification modeling phase.\n",
    "</div>"
   ]
  },
  {
   "cell_type": "markdown",
   "id": "e921a975",
   "metadata": {
    "tags": []
   },
   "source": [
    "## 1. What are the most common words in READMEs?"
   ]
  },
  {
   "cell_type": "code",
   "execution_count": null,
   "id": "76f82f8d-efe1-4834-a026-57f5455a32fa",
   "metadata": {
    "tags": []
   },
   "outputs": [],
   "source": [
    "# #visualize the most used words\n"
   ]
  },
  {
   "cell_type": "code",
   "execution_count": null,
   "id": "0026ea9c-0b92-4c83-9326-784df8d844f1",
   "metadata": {},
   "outputs": [],
   "source": [
    "# #hypothesize\n"
   ]
  },
  {
   "cell_type": "code",
   "execution_count": null,
   "id": "c71f9413-79c2-4036-ad5c-348086468b0f",
   "metadata": {},
   "outputs": [],
   "source": [
    "# #analyze?\n"
   ]
  },
  {
   "cell_type": "markdown",
   "id": "84011cfa-eec2-4221-8fc0-179fab6bbb22",
   "metadata": {},
   "source": [
    "<div class=\"alert alert-success\">    \n",
    "\n",
    "### Insight: \n",
    "    \n",
    "''\n",
    "</div>"
   ]
  },
  {
   "cell_type": "markdown",
   "id": "07d7f8ba",
   "metadata": {
    "tags": []
   },
   "source": [
    "## 2. Does the length of the README vary by programming language?"
   ]
  },
  {
   "cell_type": "code",
   "execution_count": null,
   "id": "f9d16d4b-4abc-453f-92e0-eded89a8d27c",
   "metadata": {},
   "outputs": [],
   "source": [
    "# #visualize the lengths of readmes against labels\n"
   ]
  },
  {
   "cell_type": "code",
   "execution_count": null,
   "id": "7b2fcc47-8bb6-41ab-9ff2-fe5e69c57447",
   "metadata": {},
   "outputs": [],
   "source": [
    "# #hypothesize\n"
   ]
  },
  {
   "cell_type": "code",
   "execution_count": null,
   "id": "70dc8891-30a1-423a-a2c3-a091f3d4a95a",
   "metadata": {},
   "outputs": [],
   "source": [
    "# #analyze?\n"
   ]
  },
  {
   "cell_type": "markdown",
   "id": "b13e6bfe-27c1-4f06-b63e-382fe65ae019",
   "metadata": {},
   "source": [
    "<div class=\"alert alert-success\">    \n",
    "\n",
    "### Insight: \n",
    "    \n",
    "''\n",
    "</div>"
   ]
  },
  {
   "cell_type": "markdown",
   "id": "07ee9611",
   "metadata": {
    "tags": []
   },
   "source": [
    "## 3. Do different programming languages use a different number of unique words?"
   ]
  },
  {
   "cell_type": "code",
   "execution_count": null,
   "id": "b7eb1142-3693-4a80-bfd9-8d4890862a3c",
   "metadata": {},
   "outputs": [],
   "source": [
    "# #visualize number of unique words per label\n"
   ]
  },
  {
   "cell_type": "code",
   "execution_count": null,
   "id": "bd296708-a78f-4a97-ad36-d4f692cc94b6",
   "metadata": {},
   "outputs": [],
   "source": [
    "# #hypothesize\n"
   ]
  },
  {
   "cell_type": "code",
   "execution_count": null,
   "id": "38665692-bade-4873-a978-b8f37e7b901c",
   "metadata": {
    "tags": []
   },
   "outputs": [],
   "source": [
    "# #analyze?\n"
   ]
  },
  {
   "cell_type": "markdown",
   "id": "de0c2e06-e6fe-4cfd-9a05-1e416737921f",
   "metadata": {},
   "source": [
    "<div class=\"alert alert-success\">    \n",
    "\n",
    "### Insight: \n",
    "    \n",
    "''\n",
    "</div>"
   ]
  },
  {
   "cell_type": "markdown",
   "id": "ba80faee",
   "metadata": {
    "tags": []
   },
   "source": [
    "## 4. Are there any words that uniquely identify a programming language?"
   ]
  },
  {
   "cell_type": "code",
   "execution_count": null,
   "id": "9b3cb25b-fc09-4294-b1d3-cdb432e0b099",
   "metadata": {},
   "outputs": [],
   "source": [
    "# #visualize top words per label\n"
   ]
  },
  {
   "cell_type": "code",
   "execution_count": null,
   "id": "d68ebfe9-ec9d-4df7-b853-25bb0a8890cb",
   "metadata": {},
   "outputs": [],
   "source": [
    "# #hypothesize\n"
   ]
  },
  {
   "cell_type": "code",
   "execution_count": null,
   "id": "89713ec6-c86f-429d-9c5c-625afbc5510e",
   "metadata": {},
   "outputs": [],
   "source": [
    "# #analyze?\n"
   ]
  },
  {
   "cell_type": "markdown",
   "id": "2049268d-1070-45ad-9020-bd1736044d62",
   "metadata": {},
   "source": [
    "<div class=\"alert alert-success\">    \n",
    "\n",
    "### Insight: \n",
    "    \n",
    "''\n",
    "</div>"
   ]
  },
  {
   "cell_type": "markdown",
   "id": "9793db8c",
   "metadata": {},
   "source": [
    "> # `Conclusion`"
   ]
  },
  {
   "cell_type": "markdown",
   "id": "dbcf2845",
   "metadata": {},
   "source": [
    "## Explore\n",
    "\n",
    "* \n",
    "* \n",
    "* \n",
    "* \n",
    "* \n",
    "* "
   ]
  },
  {
   "cell_type": "markdown",
   "id": "7ca1cfe3",
   "metadata": {},
   "source": [
    "> # `Recommendations/Next Steps`\n",
    "\n",
    "* \n",
    "* \n",
    "* "
   ]
  }
 ],
 "metadata": {
  "kernelspec": {
   "display_name": "Python 3 (ipykernel)",
   "language": "python",
   "name": "python3"
  },
  "language_info": {
   "codemirror_mode": {
    "name": "ipython",
    "version": 3
   },
   "file_extension": ".py",
   "mimetype": "text/x-python",
   "name": "python",
   "nbconvert_exporter": "python",
   "pygments_lexer": "ipython3",
   "version": "3.9.13"
  }
 },
 "nbformat": 4,
 "nbformat_minor": 5
}
