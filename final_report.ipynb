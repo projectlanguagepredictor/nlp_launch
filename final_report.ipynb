{
 "cells": [
  {
   "cell_type": "markdown",
   "id": "9a6b11c4",
   "metadata": {},
   "source": [
    "# NLP Launch: Natural Language Predictor Project"
   ]
  },
  {
   "cell_type": "markdown",
   "id": "4e9eaaac",
   "metadata": {},
   "source": [
    "<div class=\"alert alert-success\">  \n",
    "    \n",
    "## Goals: \n",
    "    \n",
    "* The project goal is to predict which programming language is used based solely on GitHub README's. \n",
    "* This analysis aims to address the listed questions and uncover any additional important findings related goal.\n",
    "</div>"
   ]
  },
  {
   "cell_type": "markdown",
   "id": "d4962439",
   "metadata": {
    "tags": []
   },
   "source": [
    "# `Imports`"
   ]
  },
  {
   "cell_type": "code",
   "execution_count": 1,
   "id": "d815a0f8",
   "metadata": {},
   "outputs": [
    {
     "name": "stdout",
     "output_type": "stream",
     "text": [
      "json file found and loaded\n",
      "imports loaded successfully, awaiting commands...\n"
     ]
    }
   ],
   "source": [
    "#.py modules\n",
    "import acquire as ac\n",
    "import prepare as pp\n",
    "import explore as ex\n",
    "import evaluate as ev\n",
    "\n",
    "#standard\n",
    "import pandas as pd\n",
    "import numpy as np\n",
    "import re\n",
    "\n",
    "#scraping\n",
    "import requests\n",
    "from requests import get\n",
    "from bs4 import BeautifulSoup\n",
    "\n",
    "#file\n",
    "import os\n",
    "import json\n",
    "\n",
    "#vizz\n",
    "import seaborn as sns\n",
    "import matplotlib.pyplot as plt\n",
    "from wordcloud import WordCloud\n",
    "\n",
    "#preprocess\n",
    "from sklearn.feature_extraction.text import CountVectorizer, TfidfVectorizer\n",
    "\n",
    "#split and model\n",
    "from sklearn.model_selection import train_test_split\n",
    "from sklearn.tree import DecisionTreeClassifier\n",
    "from sklearn.neighbors import KNeighborsClassifier\n",
    "\n",
    "#set random state\n",
    "random_state=123\n",
    "\n",
    "#ignore warnings\n",
    "import warnings\n",
    "warnings.filterwarnings(\"ignore\")"
   ]
  },
  {
   "cell_type": "markdown",
   "id": "fe383836",
   "metadata": {
    "tags": []
   },
   "source": [
    "# `Acquire`"
   ]
  },
  {
   "cell_type": "markdown",
   "id": "293fb904",
   "metadata": {
    "jp-MarkdownHeadingCollapsed": true,
    "tags": []
   },
   "source": [
    "### Acquire\n",
    "* Data acquired from GitHub using Selenium\n",
    "    * env.py credentials used to access GitHub\n",
    "* 740 rows × 1 column before cleaning\n",
    "* 740 rows × 3 columns after cleaning and acquiring READMEs"
   ]
  },
  {
   "cell_type": "markdown",
   "id": "52f349b8",
   "metadata": {},
   "source": [
    "\n",
    "### Data Dictionary"
   ]
  },
  {
   "cell_type": "markdown",
   "id": "5e7af5c5",
   "metadata": {},
   "source": [
    "| Feature | Definition|\n",
    "|:--------|:-----------|\n",
    "|repo| The 'author name/repo name' of the repo|\n",
    "|language| The repo language used|\n",
    "|readme| The cleaned contents of unqiue READMEs|"
   ]
  },
  {
   "cell_type": "code",
   "execution_count": 2,
   "id": "d3eb2022",
   "metadata": {},
   "outputs": [
    {
     "name": "stdout",
     "output_type": "stream",
     "text": [
      "json file found and loaded\n"
     ]
    }
   ],
   "source": [
    "#get repo authors and names\n",
    "click_data = ac.button_click()"
   ]
  },
  {
   "cell_type": "code",
   "execution_count": 3,
   "id": "e4068e17-5a3e-4ec4-a88f-89cc8f30ebac",
   "metadata": {},
   "outputs": [
    {
     "data": {
      "text/html": [
       "<div>\n",
       "<style scoped>\n",
       "    .dataframe tbody tr th:only-of-type {\n",
       "        vertical-align: middle;\n",
       "    }\n",
       "\n",
       "    .dataframe tbody tr th {\n",
       "        vertical-align: top;\n",
       "    }\n",
       "\n",
       "    .dataframe thead th {\n",
       "        text-align: right;\n",
       "    }\n",
       "</style>\n",
       "<table border=\"1\" class=\"dataframe\">\n",
       "  <thead>\n",
       "    <tr style=\"text-align: right;\">\n",
       "      <th></th>\n",
       "      <th>string</th>\n",
       "    </tr>\n",
       "  </thead>\n",
       "  <tbody>\n",
       "    <tr>\n",
       "      <th>0</th>\n",
       "      <td>sindresorhus / awesome</td>\n",
       "    </tr>\n",
       "    <tr>\n",
       "      <th>1</th>\n",
       "      <td>vinta / awesome-python</td>\n",
       "    </tr>\n",
       "    <tr>\n",
       "      <th>2</th>\n",
       "      <td>awesome-selfhosted / awesome-selfhosted</td>\n",
       "    </tr>\n",
       "    <tr>\n",
       "      <th>3</th>\n",
       "      <td>avelino / awesome-go</td>\n",
       "    </tr>\n",
       "    <tr>\n",
       "      <th>4</th>\n",
       "      <td>trimstray / the-book-of-secret-knowledge</td>\n",
       "    </tr>\n",
       "  </tbody>\n",
       "</table>\n",
       "</div>"
      ],
      "text/plain": [
       "                                     string\n",
       "0                    sindresorhus / awesome\n",
       "1                    vinta / awesome-python\n",
       "2   awesome-selfhosted / awesome-selfhosted\n",
       "3                      avelino / awesome-go\n",
       "4  trimstray / the-book-of-secret-knowledge"
      ]
     },
     "execution_count": 3,
     "metadata": {},
     "output_type": "execute_result"
    }
   ],
   "source": [
    "#quick peek\n",
    "click_data.head()"
   ]
  },
  {
   "cell_type": "code",
   "execution_count": 4,
   "id": "a6a4e35b-481a-4ff9-8654-d541fbfb1e8a",
   "metadata": {},
   "outputs": [
    {
     "name": "stdout",
     "output_type": "stream",
     "text": [
      "json file found and loaded\n"
     ]
    }
   ],
   "source": [
    "#get readme contents and add to click_data\n",
    "scraped = ac.get_scraped_data()"
   ]
  },
  {
   "cell_type": "code",
   "execution_count": 5,
   "id": "6a5d4b7c-6fab-4af0-b447-77f64a5270f2",
   "metadata": {},
   "outputs": [
    {
     "data": {
      "text/html": [
       "<div>\n",
       "<style scoped>\n",
       "    .dataframe tbody tr th:only-of-type {\n",
       "        vertical-align: middle;\n",
       "    }\n",
       "\n",
       "    .dataframe tbody tr th {\n",
       "        vertical-align: top;\n",
       "    }\n",
       "\n",
       "    .dataframe thead th {\n",
       "        text-align: right;\n",
       "    }\n",
       "</style>\n",
       "<table border=\"1\" class=\"dataframe\">\n",
       "  <thead>\n",
       "    <tr style=\"text-align: right;\">\n",
       "      <th></th>\n",
       "      <th>repo</th>\n",
       "      <th>language</th>\n",
       "      <th>readme_contents</th>\n",
       "    </tr>\n",
       "  </thead>\n",
       "  <tbody>\n",
       "    <tr>\n",
       "      <th>0</th>\n",
       "      <td>sindresorhus/awesome</td>\n",
       "      <td>None</td>\n",
       "      <td>&lt;div align=\"center\"&gt;\\n\\t&lt;a href=\"https://vshym...</td>\n",
       "    </tr>\n",
       "    <tr>\n",
       "      <th>1</th>\n",
       "      <td>vinta/awesome-python</td>\n",
       "      <td>Python</td>\n",
       "      <td># Awesome Python [![Awesome](https://cdn.rawgi...</td>\n",
       "    </tr>\n",
       "    <tr>\n",
       "      <th>2</th>\n",
       "      <td>awesome-selfhosted/awesome-selfhosted</td>\n",
       "      <td>Makefile</td>\n",
       "      <td># Awesome-Selfhosted\\n\\n[![Awesome](https://cd...</td>\n",
       "    </tr>\n",
       "    <tr>\n",
       "      <th>3</th>\n",
       "      <td>avelino/awesome-go</td>\n",
       "      <td>Go</td>\n",
       "      <td># Awesome Go\\n\\n&lt;a href=\"https://awesome-go.co...</td>\n",
       "    </tr>\n",
       "    <tr>\n",
       "      <th>4</th>\n",
       "      <td>trimstray/the-book-of-secret-knowledge</td>\n",
       "      <td>None</td>\n",
       "      <td>&lt;p align=\"center\"&gt;\\n  &lt;a href=\"https://github....</td>\n",
       "    </tr>\n",
       "  </tbody>\n",
       "</table>\n",
       "</div>"
      ],
      "text/plain": [
       "                                     repo  language  \\\n",
       "0                    sindresorhus/awesome      None   \n",
       "1                    vinta/awesome-python    Python   \n",
       "2   awesome-selfhosted/awesome-selfhosted  Makefile   \n",
       "3                      avelino/awesome-go        Go   \n",
       "4  trimstray/the-book-of-secret-knowledge      None   \n",
       "\n",
       "                                     readme_contents  \n",
       "0  <div align=\"center\">\\n\\t<a href=\"https://vshym...  \n",
       "1  # Awesome Python [![Awesome](https://cdn.rawgi...  \n",
       "2  # Awesome-Selfhosted\\n\\n[![Awesome](https://cd...  \n",
       "3  # Awesome Go\\n\\n<a href=\"https://awesome-go.co...  \n",
       "4  <p align=\"center\">\\n  <a href=\"https://github....  "
      ]
     },
     "execution_count": 5,
     "metadata": {},
     "output_type": "execute_result"
    }
   ],
   "source": [
    "#quick peek\n",
    "scraped.head()"
   ]
  },
  {
   "cell_type": "markdown",
   "id": "8ce5b2ae-7125-42cd-aa37-de136bd6a6b1",
   "metadata": {},
   "source": [
    "<div class=\"alert alert-success\">    \n",
    "\n",
    "### Insight: \n",
    "    \n",
    "Two dataframes were pulled back. \n",
    "    <br>\n",
    "* The first df was created using Selenium to scrape for repo author/repo names. Selenium was used to prevent duplication of repos by loading the entire page requested and then scraping versus having to refresh after each page selection.\n",
    "    <br>\n",
    "* The second df was created using the return of the the first df by plugging in the scraped repo author/repo names into the acquire.py function to scrape each README associated with that unique identifier.\n",
    "</div>"
   ]
  },
  {
   "cell_type": "markdown",
   "id": "35088ea5-7ed2-4abf-b862-96c457659ea6",
   "metadata": {
    "tags": []
   },
   "source": [
    "# `Prepare`"
   ]
  },
  {
   "cell_type": "markdown",
   "id": "fb256470",
   "metadata": {
    "tags": []
   },
   "source": [
    "### Prepare\n",
    "* No duplicates\n",
    "* No nulls\n",
    "* Changed languages that are not 'Python', 'JavaScript', 'HTML', 'Shell', 'Java', or 'Go' to 'other'\n",
    "    * other = 599\n",
    "* Cleaned all text using\n",
    "    * prepare.py functions\n",
    "* Additional Stopwords used to account for all word fractions leftover from the cleaning process to get as close as possible to all true words\n",
    "* No outliers removed"
   ]
  },
  {
   "cell_type": "code",
   "execution_count": 6,
   "id": "1b93d38b-94e6-4d35-b669-6cfb479f7426",
   "metadata": {},
   "outputs": [],
   "source": [
    "#clean\n",
    "df = pp.clean_df(scraped, 'readme_contents')"
   ]
  },
  {
   "cell_type": "code",
   "execution_count": 7,
   "id": "5a0bbe91-6633-4235-b788-ca16a29861cc",
   "metadata": {},
   "outputs": [
    {
     "data": {
      "text/html": [
       "<div>\n",
       "<style scoped>\n",
       "    .dataframe tbody tr th:only-of-type {\n",
       "        vertical-align: middle;\n",
       "    }\n",
       "\n",
       "    .dataframe tbody tr th {\n",
       "        vertical-align: top;\n",
       "    }\n",
       "\n",
       "    .dataframe thead th {\n",
       "        text-align: right;\n",
       "    }\n",
       "</style>\n",
       "<table border=\"1\" class=\"dataframe\">\n",
       "  <thead>\n",
       "    <tr style=\"text-align: right;\">\n",
       "      <th></th>\n",
       "      <th>repo</th>\n",
       "      <th>language</th>\n",
       "      <th>readme</th>\n",
       "    </tr>\n",
       "  </thead>\n",
       "  <tbody>\n",
       "    <tr>\n",
       "      <th>0</th>\n",
       "      <td>sindresorhus/awesome</td>\n",
       "      <td>other</td>\n",
       "      <td>div align center href http vshymanskyy standwi...</td>\n",
       "    </tr>\n",
       "    <tr>\n",
       "      <th>1</th>\n",
       "      <td>vinta/awesome-python</td>\n",
       "      <td>python</td>\n",
       "      <td>awesome python awesome http cdn rawgit sindres...</td>\n",
       "    </tr>\n",
       "    <tr>\n",
       "      <th>2</th>\n",
       "      <td>awesome-selfhosted/awesome-selfhosted</td>\n",
       "      <td>other</td>\n",
       "      <td>awesome selfhosted awesome http cdn jsdelivr n...</td>\n",
       "    </tr>\n",
       "    <tr>\n",
       "      <th>3</th>\n",
       "      <td>avelino/awesome-go</td>\n",
       "      <td>go</td>\n",
       "      <td>awesome go href http awesome go img align righ...</td>\n",
       "    </tr>\n",
       "    <tr>\n",
       "      <th>4</th>\n",
       "      <td>trimstray/the-book-of-secret-knowledge</td>\n",
       "      <td>other</td>\n",
       "      <td>p align center href http trimstray book secret...</td>\n",
       "    </tr>\n",
       "  </tbody>\n",
       "</table>\n",
       "</div>"
      ],
      "text/plain": [
       "                                     repo language  \\\n",
       "0                    sindresorhus/awesome    other   \n",
       "1                    vinta/awesome-python   python   \n",
       "2   awesome-selfhosted/awesome-selfhosted    other   \n",
       "3                      avelino/awesome-go       go   \n",
       "4  trimstray/the-book-of-secret-knowledge    other   \n",
       "\n",
       "                                              readme  \n",
       "0  div align center href http vshymanskyy standwi...  \n",
       "1  awesome python awesome http cdn rawgit sindres...  \n",
       "2  awesome selfhosted awesome http cdn jsdelivr n...  \n",
       "3  awesome go href http awesome go img align righ...  \n",
       "4  p align center href http trimstray book secret...  "
      ]
     },
     "execution_count": 7,
     "metadata": {},
     "output_type": "execute_result"
    }
   ],
   "source": [
    "#quick peek\n",
    "df.head()"
   ]
  },
  {
   "cell_type": "code",
   "execution_count": 14,
   "id": "db295748-5466-49d4-863c-1c9d95d5cc13",
   "metadata": {},
   "outputs": [
    {
     "name": "stdout",
     "output_type": "stream",
     "text": [
      "Prepared DF: (740, 3)\n",
      "Train: (444, 3)\n",
      "Validate: (148, 3)\n",
      "Test: (148, 3)\n"
     ]
    }
   ],
   "source": [
    "#splitting the data\n",
    "train, validate, test = ev.split_data_strat(df, 'language')"
   ]
  },
  {
   "cell_type": "code",
   "execution_count": 15,
   "id": "f9cab87f-af31-469d-aa4a-d1cfb37acce7",
   "metadata": {},
   "outputs": [],
   "source": [
    "#make the count vectorizer thing to create the bag of words to prepare for modeling\n",
    "bag_of_words = ev.make_bag_o_words(df, 'readme')"
   ]
  },
  {
   "cell_type": "code",
   "execution_count": 16,
   "id": "5b035a2c-bbc2-4281-b2bb-2aa673b13140",
   "metadata": {},
   "outputs": [
    {
     "data": {
      "image/png": "[encoded data removed]",
      "text/plain": [
       "<Figure size 640x480 with 1 Axes>"
      ]
     },
     "metadata": {},
     "output_type": "display_data"
    }
   ],
   "source": [
    "#train wordcloud\n",
    "img = WordCloud(background_color='white').generate(' '.join(train.readme))\n",
    "plt.imshow(img)\n",
    "plt.axis('off')\n",
    "plt.show()"
   ]
  },
  {
   "cell_type": "code",
   "execution_count": 56,
   "id": "0c24ec8d-6051-4783-8b6e-375d209fb4f6",
   "metadata": {},
   "outputs": [
    {
     "name": "stdout",
     "output_type": "stream",
     "text": [
      "Unfiltered Data: 3975 words  Filtered Data: 3975 words\n",
      "\n"
     ]
    }
   ],
   "source": [
    "#creating a df of all the words and their associated languages and filtering out as much gibberish as possible without limiting the data\n",
    "l = 8000\n",
    "word_counts = ex.get_words(train, l)"
   ]
  },
  {
   "cell_type": "code",
   "execution_count": 58,
   "id": "dc3f1dba-3968-4be4-85d1-fac497bed7b4",
   "metadata": {},
   "outputs": [
    {
     "data": {
      "text/html": [
       "<div>\n",
       "<style scoped>\n",
       "    .dataframe tbody tr th:only-of-type {\n",
       "        vertical-align: middle;\n",
       "    }\n",
       "\n",
       "    .dataframe tbody tr th {\n",
       "        vertical-align: top;\n",
       "    }\n",
       "\n",
       "    .dataframe thead th {\n",
       "        text-align: right;\n",
       "    }\n",
       "</style>\n",
       "<table border=\"1\" class=\"dataframe\">\n",
       "  <thead>\n",
       "    <tr style=\"text-align: right;\">\n",
       "      <th></th>\n",
       "      <th>all</th>\n",
       "      <th>python</th>\n",
       "      <th>javascript</th>\n",
       "      <th>html</th>\n",
       "      <th>shell</th>\n",
       "      <th>java</th>\n",
       "      <th>go</th>\n",
       "      <th>other</th>\n",
       "    </tr>\n",
       "  </thead>\n",
       "  <tbody>\n",
       "    <tr>\n",
       "      <th>http</th>\n",
       "      <td>138465</td>\n",
       "      <td>6435</td>\n",
       "      <td>7841</td>\n",
       "      <td>3477</td>\n",
       "      <td>4909</td>\n",
       "      <td>2561</td>\n",
       "      <td>3425</td>\n",
       "      <td>109817</td>\n",
       "    </tr>\n",
       "    <tr>\n",
       "      <th>img</th>\n",
       "      <td>12472</td>\n",
       "      <td>603</td>\n",
       "      <td>1437</td>\n",
       "      <td>70</td>\n",
       "      <td>53</td>\n",
       "      <td>1167</td>\n",
       "      <td>105</td>\n",
       "      <td>9037</td>\n",
       "    </tr>\n",
       "    <tr>\n",
       "      <th>star</th>\n",
       "      <td>10058</td>\n",
       "      <td>248</td>\n",
       "      <td>2431</td>\n",
       "      <td>9</td>\n",
       "      <td>10</td>\n",
       "      <td>1239</td>\n",
       "      <td>7</td>\n",
       "      <td>6114</td>\n",
       "    </tr>\n",
       "    <tr>\n",
       "      <th>awesome</th>\n",
       "      <td>9979</td>\n",
       "      <td>231</td>\n",
       "      <td>806</td>\n",
       "      <td>203</td>\n",
       "      <td>285</td>\n",
       "      <td>12</td>\n",
       "      <td>82</td>\n",
       "      <td>8360</td>\n",
       "    </tr>\n",
       "    <tr>\n",
       "      <th>code</th>\n",
       "      <td>9299</td>\n",
       "      <td>299</td>\n",
       "      <td>282</td>\n",
       "      <td>183</td>\n",
       "      <td>144</td>\n",
       "      <td>199</td>\n",
       "      <td>212</td>\n",
       "      <td>7980</td>\n",
       "    </tr>\n",
       "    <tr>\n",
       "      <th>go</th>\n",
       "      <td>8053</td>\n",
       "      <td>28</td>\n",
       "      <td>55</td>\n",
       "      <td>93</td>\n",
       "      <td>45</td>\n",
       "      <td>12</td>\n",
       "      <td>3385</td>\n",
       "      <td>4435</td>\n",
       "    </tr>\n",
       "    <tr>\n",
       "      <th>data</th>\n",
       "      <td>7986</td>\n",
       "      <td>906</td>\n",
       "      <td>214</td>\n",
       "      <td>265</td>\n",
       "      <td>48</td>\n",
       "      <td>139</td>\n",
       "      <td>128</td>\n",
       "      <td>6286</td>\n",
       "    </tr>\n",
       "    <tr>\n",
       "      <th>shield</th>\n",
       "      <td>7147</td>\n",
       "      <td>228</td>\n",
       "      <td>1234</td>\n",
       "      <td>39</td>\n",
       "      <td>13</td>\n",
       "      <td>416</td>\n",
       "      <td>12</td>\n",
       "      <td>5205</td>\n",
       "    </tr>\n",
       "    <tr>\n",
       "      <th>library</th>\n",
       "      <td>7061</td>\n",
       "      <td>533</td>\n",
       "      <td>261</td>\n",
       "      <td>236</td>\n",
       "      <td>37</td>\n",
       "      <td>176</td>\n",
       "      <td>512</td>\n",
       "      <td>5306</td>\n",
       "    </tr>\n",
       "    <tr>\n",
       "      <th>svg</th>\n",
       "      <td>6987</td>\n",
       "      <td>249</td>\n",
       "      <td>2249</td>\n",
       "      <td>50</td>\n",
       "      <td>64</td>\n",
       "      <td>422</td>\n",
       "      <td>40</td>\n",
       "      <td>3913</td>\n",
       "    </tr>\n",
       "    <tr>\n",
       "      <th>open</th>\n",
       "      <td>6944</td>\n",
       "      <td>375</td>\n",
       "      <td>557</td>\n",
       "      <td>105</td>\n",
       "      <td>99</td>\n",
       "      <td>104</td>\n",
       "      <td>46</td>\n",
       "      <td>5658</td>\n",
       "    </tr>\n",
       "    <tr>\n",
       "      <th>tool</th>\n",
       "      <td>6915</td>\n",
       "      <td>228</td>\n",
       "      <td>907</td>\n",
       "      <td>206</td>\n",
       "      <td>392</td>\n",
       "      <td>75</td>\n",
       "      <td>322</td>\n",
       "      <td>4785</td>\n",
       "    </tr>\n",
       "    <tr>\n",
       "      <th>style</th>\n",
       "      <td>6726</td>\n",
       "      <td>243</td>\n",
       "      <td>1373</td>\n",
       "      <td>29</td>\n",
       "      <td>21</td>\n",
       "      <td>419</td>\n",
       "      <td>103</td>\n",
       "      <td>4538</td>\n",
       "    </tr>\n",
       "    <tr>\n",
       "      <th>web</th>\n",
       "      <td>6615</td>\n",
       "      <td>232</td>\n",
       "      <td>325</td>\n",
       "      <td>174</td>\n",
       "      <td>117</td>\n",
       "      <td>110</td>\n",
       "      <td>124</td>\n",
       "      <td>5533</td>\n",
       "    </tr>\n",
       "    <tr>\n",
       "      <th>source</th>\n",
       "      <td>6176</td>\n",
       "      <td>229</td>\n",
       "      <td>609</td>\n",
       "      <td>117</td>\n",
       "      <td>76</td>\n",
       "      <td>115</td>\n",
       "      <td>66</td>\n",
       "      <td>4964</td>\n",
       "    </tr>\n",
       "    <tr>\n",
       "      <th>python</th>\n",
       "      <td>5997</td>\n",
       "      <td>753</td>\n",
       "      <td>29</td>\n",
       "      <td>468</td>\n",
       "      <td>114</td>\n",
       "      <td>3</td>\n",
       "      <td>22</td>\n",
       "      <td>4608</td>\n",
       "    </tr>\n",
       "    <tr>\n",
       "      <th>license</th>\n",
       "      <td>5725</td>\n",
       "      <td>168</td>\n",
       "      <td>51</td>\n",
       "      <td>22</td>\n",
       "      <td>23</td>\n",
       "      <td>2934</td>\n",
       "      <td>25</td>\n",
       "      <td>2502</td>\n",
       "    </tr>\n",
       "    <tr>\n",
       "      <th>badge</th>\n",
       "      <td>5339</td>\n",
       "      <td>52</td>\n",
       "      <td>65</td>\n",
       "      <td>43</td>\n",
       "      <td>73</td>\n",
       "      <td>3</td>\n",
       "      <td>21</td>\n",
       "      <td>5082</td>\n",
       "    </tr>\n",
       "    <tr>\n",
       "      <th>project</th>\n",
       "      <td>5245</td>\n",
       "      <td>223</td>\n",
       "      <td>181</td>\n",
       "      <td>191</td>\n",
       "      <td>142</td>\n",
       "      <td>154</td>\n",
       "      <td>79</td>\n",
       "      <td>4275</td>\n",
       "    </tr>\n",
       "    <tr>\n",
       "      <th>master</th>\n",
       "      <td>5198</td>\n",
       "      <td>76</td>\n",
       "      <td>683</td>\n",
       "      <td>71</td>\n",
       "      <td>188</td>\n",
       "      <td>786</td>\n",
       "      <td>67</td>\n",
       "      <td>3327</td>\n",
       "    </tr>\n",
       "  </tbody>\n",
       "</table>\n",
       "</div>"
      ],
      "text/plain": [
       "            all  python  javascript  html  shell  java    go   other\n",
       "http     138465    6435        7841  3477   4909  2561  3425  109817\n",
       "img       12472     603        1437    70     53  1167   105    9037\n",
       "star      10058     248        2431     9     10  1239     7    6114\n",
       "awesome    9979     231         806   203    285    12    82    8360\n",
       "code       9299     299         282   183    144   199   212    7980\n",
       "go         8053      28          55    93     45    12  3385    4435\n",
       "data       7986     906         214   265     48   139   128    6286\n",
       "shield     7147     228        1234    39     13   416    12    5205\n",
       "library    7061     533         261   236     37   176   512    5306\n",
       "svg        6987     249        2249    50     64   422    40    3913\n",
       "open       6944     375         557   105     99   104    46    5658\n",
       "tool       6915     228         907   206    392    75   322    4785\n",
       "style      6726     243        1373    29     21   419   103    4538\n",
       "web        6615     232         325   174    117   110   124    5533\n",
       "source     6176     229         609   117     76   115    66    4964\n",
       "python     5997     753          29   468    114     3    22    4608\n",
       "license    5725     168          51    22     23  2934    25    2502\n",
       "badge      5339      52          65    43     73     3    21    5082\n",
       "project    5245     223         181   191    142   154    79    4275\n",
       "master     5198      76         683    71    188   786    67    3327"
      ]
     },
     "execution_count": 58,
     "metadata": {},
     "output_type": "execute_result"
    }
   ],
   "source": [
    "#quick peek\n",
    "word_counts.head(20)"
   ]
  },
  {
   "cell_type": "code",
   "execution_count": 59,
   "id": "6927dde6-b894-4b65-be82-37c0a3f7ec0d",
   "metadata": {},
   "outputs": [],
   "source": [
    "#make a list called keep_words\n",
    "keep_words = word_counts.index.tolist()"
   ]
  },
  {
   "cell_type": "code",
   "execution_count": 60,
   "id": "faf4bcc2-a3ba-46d6-8076-a1aa6e1faa14",
   "metadata": {},
   "outputs": [
    {
     "data": {
      "text/html": [
       "<div>\n",
       "<style scoped>\n",
       "    .dataframe tbody tr th:only-of-type {\n",
       "        vertical-align: middle;\n",
       "    }\n",
       "\n",
       "    .dataframe tbody tr th {\n",
       "        vertical-align: top;\n",
       "    }\n",
       "\n",
       "    .dataframe thead th {\n",
       "        text-align: right;\n",
       "    }\n",
       "</style>\n",
       "<table border=\"1\" class=\"dataframe\">\n",
       "  <thead>\n",
       "    <tr style=\"text-align: right;\">\n",
       "      <th></th>\n",
       "      <th>all</th>\n",
       "      <th>python</th>\n",
       "      <th>javascript</th>\n",
       "      <th>html</th>\n",
       "      <th>shell</th>\n",
       "      <th>java</th>\n",
       "      <th>go</th>\n",
       "      <th>other</th>\n",
       "    </tr>\n",
       "  </thead>\n",
       "  <tbody>\n",
       "    <tr>\n",
       "      <th>img</th>\n",
       "      <td>12472</td>\n",
       "      <td>603</td>\n",
       "      <td>1437</td>\n",
       "      <td>70</td>\n",
       "      <td>53</td>\n",
       "      <td>1167</td>\n",
       "      <td>105</td>\n",
       "      <td>9037</td>\n",
       "    </tr>\n",
       "    <tr>\n",
       "      <th>star</th>\n",
       "      <td>10058</td>\n",
       "      <td>248</td>\n",
       "      <td>2431</td>\n",
       "      <td>9</td>\n",
       "      <td>10</td>\n",
       "      <td>1239</td>\n",
       "      <td>7</td>\n",
       "      <td>6114</td>\n",
       "    </tr>\n",
       "    <tr>\n",
       "      <th>awesome</th>\n",
       "      <td>9979</td>\n",
       "      <td>231</td>\n",
       "      <td>806</td>\n",
       "      <td>203</td>\n",
       "      <td>285</td>\n",
       "      <td>12</td>\n",
       "      <td>82</td>\n",
       "      <td>8360</td>\n",
       "    </tr>\n",
       "    <tr>\n",
       "      <th>code</th>\n",
       "      <td>9299</td>\n",
       "      <td>299</td>\n",
       "      <td>282</td>\n",
       "      <td>183</td>\n",
       "      <td>144</td>\n",
       "      <td>199</td>\n",
       "      <td>212</td>\n",
       "      <td>7980</td>\n",
       "    </tr>\n",
       "    <tr>\n",
       "      <th>go</th>\n",
       "      <td>8053</td>\n",
       "      <td>28</td>\n",
       "      <td>55</td>\n",
       "      <td>93</td>\n",
       "      <td>45</td>\n",
       "      <td>12</td>\n",
       "      <td>3385</td>\n",
       "      <td>4435</td>\n",
       "    </tr>\n",
       "    <tr>\n",
       "      <th>...</th>\n",
       "      <td>...</td>\n",
       "      <td>...</td>\n",
       "      <td>...</td>\n",
       "      <td>...</td>\n",
       "      <td>...</td>\n",
       "      <td>...</td>\n",
       "      <td>...</td>\n",
       "      <td>...</td>\n",
       "    </tr>\n",
       "    <tr>\n",
       "      <th>contenido</th>\n",
       "      <td>1</td>\n",
       "      <td>0</td>\n",
       "      <td>0</td>\n",
       "      <td>0</td>\n",
       "      <td>0</td>\n",
       "      <td>0</td>\n",
       "      <td>0</td>\n",
       "      <td>1</td>\n",
       "    </tr>\n",
       "    <tr>\n",
       "      <th>como</th>\n",
       "      <td>1</td>\n",
       "      <td>0</td>\n",
       "      <td>0</td>\n",
       "      <td>0</td>\n",
       "      <td>0</td>\n",
       "      <td>0</td>\n",
       "      <td>0</td>\n",
       "      <td>1</td>\n",
       "    </tr>\n",
       "    <tr>\n",
       "      <th>por</th>\n",
       "      <td>1</td>\n",
       "      <td>0</td>\n",
       "      <td>0</td>\n",
       "      <td>0</td>\n",
       "      <td>0</td>\n",
       "      <td>0</td>\n",
       "      <td>0</td>\n",
       "      <td>1</td>\n",
       "    </tr>\n",
       "    <tr>\n",
       "      <th>arte</th>\n",
       "      <td>1</td>\n",
       "      <td>0</td>\n",
       "      <td>0</td>\n",
       "      <td>0</td>\n",
       "      <td>0</td>\n",
       "      <td>0</td>\n",
       "      <td>0</td>\n",
       "      <td>1</td>\n",
       "    </tr>\n",
       "    <tr>\n",
       "      <th>zvm</th>\n",
       "      <td>1</td>\n",
       "      <td>0</td>\n",
       "      <td>0</td>\n",
       "      <td>0</td>\n",
       "      <td>0</td>\n",
       "      <td>0</td>\n",
       "      <td>0</td>\n",
       "      <td>1</td>\n",
       "    </tr>\n",
       "  </tbody>\n",
       "</table>\n",
       "<p>3974 rows × 8 columns</p>\n",
       "</div>"
      ],
      "text/plain": [
       "             all  python  javascript  html  shell  java    go  other\n",
       "img        12472     603        1437    70     53  1167   105   9037\n",
       "star       10058     248        2431     9     10  1239     7   6114\n",
       "awesome     9979     231         806   203    285    12    82   8360\n",
       "code        9299     299         282   183    144   199   212   7980\n",
       "go          8053      28          55    93     45    12  3385   4435\n",
       "...          ...     ...         ...   ...    ...   ...   ...    ...\n",
       "contenido      1       0           0     0      0     0     0      1\n",
       "como           1       0           0     0      0     0     0      1\n",
       "por            1       0           0     0      0     0     0      1\n",
       "arte           1       0           0     0      0     0     0      1\n",
       "zvm            1       0           0     0      0     0     0      1\n",
       "\n",
       "[3974 rows x 8 columns]"
      ]
     },
     "execution_count": 60,
     "metadata": {},
     "output_type": "execute_result"
    }
   ],
   "source": [
    "#removing http as it as an outlier\n",
    "word_counts = word_counts[1:]\n",
    "word_counts"
   ]
  },
  {
   "cell_type": "code",
   "execution_count": 12,
   "id": "64dba79c-5240-4097-9b13-bdb8097825d4",
   "metadata": {},
   "outputs": [],
   "source": [
    "def clean_readme(string):\n",
    "    '''\n",
    "    this function is meant to clean the original readmes in the df to filter out as much gibberish as possible\n",
    "    '''\n",
    "    words = string.split()\n",
    "    clean_words = [word for word in words if word in keep_words]\n",
    "    clean_words = ' '.join(clean_words)\n",
    "    return clean_words"
   ]
  },
  {
   "cell_type": "code",
   "execution_count": 13,
   "id": "fcaf92c5-0da8-4319-b801-5507b5a11911",
   "metadata": {},
   "outputs": [],
   "source": [
    "#applying cleaning to the readmes\n",
    "df.readme = df.readme.apply(clean_readme)"
   ]
  },
  {
   "cell_type": "markdown",
   "id": "5043bf67-c427-4c60-9c73-e7f2ae9eb849",
   "metadata": {},
   "source": [
    "<div class=\"alert alert-success\">    \n",
    "\n",
    "### Insight: \n",
    "    \n",
    "Prepare involved creating a single df from both dfs to start the explore phase.\n",
    "    <br>\n",
    "* We changed the python languages that had less than 10 occurences to 'other' in order to bin our target variable into more managable items.\n",
    "* We added 4,000 unqiue words to a list in order to keep those words in the READMEs and to filter out some of the nonsense to get down as close as possible to actual words.\n",
    "</div>"
   ]
  },
  {
   "cell_type": "markdown",
   "id": "d3c54a1c-fc95-4ee2-9dbc-06589c41f26f",
   "metadata": {
    "tags": []
   },
   "source": [
    "# `Preprocessing`"
   ]
  },
  {
   "cell_type": "markdown",
   "id": "07bb7a10-dc65-4252-ab1c-ae0a6cdc72ce",
   "metadata": {},
   "source": [
    "## Counts and Frequencies"
   ]
  },
  {
   "cell_type": "code",
   "execution_count": 39,
   "id": "065a4397-6a9d-41b4-9c00-8eb202bdaefc",
   "metadata": {},
   "outputs": [],
   "source": [
    "#counts and frequencies of languages\n",
    "freq = ex.show_counts_and_ratios(df, 'language')"
   ]
  },
  {
   "cell_type": "code",
   "execution_count": 40,
   "id": "6de01486-7e76-4775-a3b3-528aba1ee33a",
   "metadata": {},
   "outputs": [
    {
     "data": {
      "text/html": [
       "<div>\n",
       "<style scoped>\n",
       "    .dataframe tbody tr th:only-of-type {\n",
       "        vertical-align: middle;\n",
       "    }\n",
       "\n",
       "    .dataframe tbody tr th {\n",
       "        vertical-align: top;\n",
       "    }\n",
       "\n",
       "    .dataframe thead th {\n",
       "        text-align: right;\n",
       "    }\n",
       "</style>\n",
       "<table border=\"1\" class=\"dataframe\">\n",
       "  <thead>\n",
       "    <tr style=\"text-align: right;\">\n",
       "      <th></th>\n",
       "      <th>n</th>\n",
       "      <th>percent</th>\n",
       "    </tr>\n",
       "  </thead>\n",
       "  <tbody>\n",
       "    <tr>\n",
       "      <th>other</th>\n",
       "      <td>599</td>\n",
       "      <td>0.81</td>\n",
       "    </tr>\n",
       "    <tr>\n",
       "      <th>python</th>\n",
       "      <td>40</td>\n",
       "      <td>0.05</td>\n",
       "    </tr>\n",
       "    <tr>\n",
       "      <th>javascript</th>\n",
       "      <td>36</td>\n",
       "      <td>0.05</td>\n",
       "    </tr>\n",
       "    <tr>\n",
       "      <th>html</th>\n",
       "      <td>25</td>\n",
       "      <td>0.03</td>\n",
       "    </tr>\n",
       "    <tr>\n",
       "      <th>shell</th>\n",
       "      <td>19</td>\n",
       "      <td>0.03</td>\n",
       "    </tr>\n",
       "    <tr>\n",
       "      <th>java</th>\n",
       "      <td>11</td>\n",
       "      <td>0.01</td>\n",
       "    </tr>\n",
       "    <tr>\n",
       "      <th>go</th>\n",
       "      <td>10</td>\n",
       "      <td>0.01</td>\n",
       "    </tr>\n",
       "  </tbody>\n",
       "</table>\n",
       "</div>"
      ],
      "text/plain": [
       "              n  percent\n",
       "other       599     0.81\n",
       "python       40     0.05\n",
       "javascript   36     0.05\n",
       "html         25     0.03\n",
       "shell        19     0.03\n",
       "java         11     0.01\n",
       "go           10     0.01"
      ]
     },
     "execution_count": 40,
     "metadata": {},
     "output_type": "execute_result"
    }
   ],
   "source": [
    "#quick peek\n",
    "freq"
   ]
  },
  {
   "cell_type": "markdown",
   "id": "98864fcb-8775-4586-b1f7-b691d321cd10",
   "metadata": {},
   "source": [
    "<div class=\"alert alert-success\">    \n",
    "\n",
    "### Insight: \n",
    "    \n",
    "'Other' accounts for 81% of languages in the READMEs pulled. This will become our baseline for the classification modeling phase.\n",
    "</div>"
   ]
  },
  {
   "cell_type": "markdown",
   "id": "d39e2f6f",
   "metadata": {
    "tags": []
   },
   "source": [
    "# `Explore`"
   ]
  },
  {
   "cell_type": "markdown",
   "id": "bd991117",
   "metadata": {},
   "source": [
    "### Questions To Answer:\n",
    "1. What are the most common words in READMEs?\n",
    "2. Does the length of the README vary by programming language?\n",
    "3. Do different programming languages use a different number of unique words?\n",
    "4. Are there any words that uniquely identify a programming language?"
   ]
  },
  {
   "cell_type": "markdown",
   "id": "e921a975",
   "metadata": {
    "tags": []
   },
   "source": [
    "## 1. What are the most common words in READMEs?"
   ]
  },
  {
   "cell_type": "code",
   "execution_count": 41,
   "id": "76f82f8d-efe1-4834-a026-57f5455a32fa",
   "metadata": {
    "tags": []
   },
   "outputs": [
    {
     "data": {
      "text/plain": [
       "img        12472\n",
       "star       10058\n",
       "awesome     9979\n",
       "code        9299\n",
       "go          8053\n",
       "data        7986\n",
       "shield      7147\n",
       "library     7061\n",
       "svg         6987\n",
       "open        6944\n",
       "tool        6915\n",
       "style       6726\n",
       "web         6615\n",
       "source      6176\n",
       "python      5997\n",
       "license     5725\n",
       "badge       5339\n",
       "project     5245\n",
       "master      5198\n",
       "api         5174\n",
       "Name: all, dtype: int64"
      ]
     },
     "execution_count": 41,
     "metadata": {},
     "output_type": "execute_result"
    }
   ],
   "source": [
    "#look at the top 20 words\n",
    "word_counts['all'].sort_values(ascending=False).head(20)"
   ]
  },
  {
   "cell_type": "code",
   "execution_count": 43,
   "id": "0026ea9c-0b92-4c83-9326-784df8d844f1",
   "metadata": {},
   "outputs": [
    {
     "data": {
      "image/png": "[encoded data removed]",
      "text/plain": [
       "<Figure size 1300x700 with 1 Axes>"
      ]
     },
     "metadata": {},
     "output_type": "display_data"
    }
   ],
   "source": [
    "#visualize the top 20 words\n",
    "word_counts['all'].sort_values(ascending=False).head(20).plot.barh()\n",
    "plt.title('Top 20 Words in Train')\n",
    "plt.xlabel('Count')\n",
    "plt.ylabel('Word')\n",
    "plt.show()"
   ]
  },
  {
   "cell_type": "markdown",
   "id": "84011cfa-eec2-4221-8fc0-179fab6bbb22",
   "metadata": {
    "tags": []
   },
   "source": [
    "<div class=\"alert alert-success\">    \n",
    "\n",
    "### Insight: \n",
    "    \n",
    "By cleaning the READMEs we were able to identify the top 20 actual words across all READMEs.\n",
    "    <br>\n",
    "* http has been removed as an outlier\n",
    "</div>"
   ]
  },
  {
   "cell_type": "markdown",
   "id": "07d7f8ba",
   "metadata": {
    "tags": []
   },
   "source": [
    "## 2. Does the length of the README vary by programming language?"
   ]
  },
  {
   "cell_type": "markdown",
   "id": "f9447bc4",
   "metadata": {},
   "source": [
    "$H_0$: The length of the readme does not vary by programming language\n",
    "\n",
    "\n",
    "$H_a$: The programing language does vary by programming language"
   ]
  },
  {
   "cell_type": "code",
   "execution_count": 44,
   "id": "f9d16d4b-4abc-453f-92e0-eded89a8d27c",
   "metadata": {},
   "outputs": [
    {
     "name": "stdout",
     "output_type": "stream",
     "text": [
      "            letter_count\n",
      "language                \n",
      "go          41275.333333\n",
      "html        20103.866667\n",
      "java        35339.571429\n",
      "javascript  25220.454545\n",
      "other       21575.284123\n",
      "python      18944.250000\n",
      "shell       28116.363636\n"
     ]
    },
    {
     "data": {
      "image/png": "[encoded data removed]",
      "text/plain": [
       "<Figure size 1300x700 with 1 Axes>"
      ]
     },
     "metadata": {},
     "output_type": "display_data"
    },
    {
     "name": "stdout",
     "output_type": "stream",
     "text": [
      "Levene Test Successful\n",
      "p-value = nan. There is no significant difference between the means of language and letter_count.\n"
     ]
    }
   ],
   "source": [
    "#visualize the lengths of readmes against labels\n",
    "ex.calculate_average_letter_count(train)"
   ]
  },
  {
   "cell_type": "markdown",
   "id": "b13e6bfe-27c1-4f06-b63e-382fe65ae019",
   "metadata": {},
   "source": [
    "<div class=\"alert alert-success\">    \n",
    "\n",
    "### Insight: \n",
    "     \n",
    "The average length of readmes by language varied but not significanly so, except for Go.\n",
    "    <br>\n",
    "</div>"
   ]
  },
  {
   "cell_type": "markdown",
   "id": "07ee9611",
   "metadata": {
    "tags": []
   },
   "source": [
    "## 3. Do different programming languages use a different number of unique words?"
   ]
  },
  {
   "cell_type": "code",
   "execution_count": 45,
   "id": "b7eb1142-3693-4a80-bfd9-8d4890862a3c",
   "metadata": {},
   "outputs": [
    {
     "data": {
      "text/plain": [
       "python        181\n",
       "javascript    201\n",
       "html          143\n",
       "shell         151\n",
       "java          109\n",
       "go            129\n",
       "dtype: int64"
      ]
     },
     "execution_count": 45,
     "metadata": {},
     "output_type": "execute_result"
    }
   ],
   "source": [
    "#look at the number of unique words per language\n",
    "word_counts.drop(columns={'all', 'other'}).nunique()"
   ]
  },
  {
   "cell_type": "code",
   "execution_count": 46,
   "id": "bd296708-a78f-4a97-ad36-d4f692cc94b6",
   "metadata": {},
   "outputs": [
    {
     "data": {
      "image/png": "[encoded data removed]",
      "text/plain": [
       "<Figure size 1300x700 with 1 Axes>"
      ]
     },
     "metadata": {},
     "output_type": "display_data"
    }
   ],
   "source": [
    "#visualize number of unique words per label\n",
    "word_counts.drop(columns={'all', 'other'}).nunique().plot.barh()\n",
    "plt.title('Unique Words Used Per Language (excluding all and other)')\n",
    "plt.xlabel('Count')\n",
    "plt.ylabel('Language')\n",
    "plt.show()"
   ]
  },
  {
   "cell_type": "markdown",
   "id": "de0c2e06-e6fe-4cfd-9a05-1e416737921f",
   "metadata": {},
   "source": [
    "<div class=\"alert alert-success\">    \n",
    "\n",
    "### Insight: \n",
    "    \n",
    "When looking at the unique words per language we excluded the 'all' and 'other' columns and looked solely at explicitly defined languages.\n",
    "    <br>\n",
    "* As you can see the number of unqiue words per langugage is slightly different.\n",
    "* With Python being the highest and Java having the least amount.\n",
    "</div>"
   ]
  },
  {
   "cell_type": "markdown",
   "id": "ba80faee",
   "metadata": {
    "tags": []
   },
   "source": [
    "## 4. Are there any words that uniquely identify a programming language?"
   ]
  },
  {
   "cell_type": "code",
   "execution_count": 47,
   "id": "d95fbb05-cada-498c-9b44-3aac0f0a51fa",
   "metadata": {},
   "outputs": [
    {
     "data": {
      "text/html": [
       "<div>\n",
       "<style scoped>\n",
       "    .dataframe tbody tr th:only-of-type {\n",
       "        vertical-align: middle;\n",
       "    }\n",
       "\n",
       "    .dataframe tbody tr th {\n",
       "        vertical-align: top;\n",
       "    }\n",
       "\n",
       "    .dataframe thead th {\n",
       "        text-align: right;\n",
       "    }\n",
       "</style>\n",
       "<table border=\"1\" class=\"dataframe\">\n",
       "  <thead>\n",
       "    <tr style=\"text-align: right;\">\n",
       "      <th></th>\n",
       "      <th>all</th>\n",
       "      <th>python</th>\n",
       "      <th>javascript</th>\n",
       "      <th>html</th>\n",
       "      <th>shell</th>\n",
       "      <th>java</th>\n",
       "      <th>go</th>\n",
       "      <th>other</th>\n",
       "    </tr>\n",
       "  </thead>\n",
       "  <tbody>\n",
       "    <tr>\n",
       "      <th>go</th>\n",
       "      <td>1.0</td>\n",
       "      <td>0.00</td>\n",
       "      <td>0.01</td>\n",
       "      <td>0.01</td>\n",
       "      <td>0.01</td>\n",
       "      <td>0.00</td>\n",
       "      <td>0.42</td>\n",
       "      <td>0.55</td>\n",
       "    </tr>\n",
       "    <tr>\n",
       "      <th>golang</th>\n",
       "      <td>1.0</td>\n",
       "      <td>0.01</td>\n",
       "      <td>0.00</td>\n",
       "      <td>0.01</td>\n",
       "      <td>0.01</td>\n",
       "      <td>0.00</td>\n",
       "      <td>0.46</td>\n",
       "      <td>0.51</td>\n",
       "    </tr>\n",
       "    <tr>\n",
       "      <th>library</th>\n",
       "      <td>1.0</td>\n",
       "      <td>0.08</td>\n",
       "      <td>0.04</td>\n",
       "      <td>0.03</td>\n",
       "      <td>0.01</td>\n",
       "      <td>0.02</td>\n",
       "      <td>0.07</td>\n",
       "      <td>0.75</td>\n",
       "    </tr>\n",
       "    <tr>\n",
       "      <th>tool</th>\n",
       "      <td>1.0</td>\n",
       "      <td>0.03</td>\n",
       "      <td>0.13</td>\n",
       "      <td>0.03</td>\n",
       "      <td>0.06</td>\n",
       "      <td>0.01</td>\n",
       "      <td>0.05</td>\n",
       "      <td>0.69</td>\n",
       "    </tr>\n",
       "    <tr>\n",
       "      <th>package</th>\n",
       "      <td>1.0</td>\n",
       "      <td>0.03</td>\n",
       "      <td>0.03</td>\n",
       "      <td>0.02</td>\n",
       "      <td>0.01</td>\n",
       "      <td>0.00</td>\n",
       "      <td>0.07</td>\n",
       "      <td>0.84</td>\n",
       "    </tr>\n",
       "    <tr>\n",
       "      <th>test</th>\n",
       "      <td>1.0</td>\n",
       "      <td>0.03</td>\n",
       "      <td>0.03</td>\n",
       "      <td>0.04</td>\n",
       "      <td>0.02</td>\n",
       "      <td>0.01</td>\n",
       "      <td>0.16</td>\n",
       "      <td>0.72</td>\n",
       "    </tr>\n",
       "    <tr>\n",
       "      <th>content</th>\n",
       "      <td>1.0</td>\n",
       "      <td>0.04</td>\n",
       "      <td>0.03</td>\n",
       "      <td>0.03</td>\n",
       "      <td>0.01</td>\n",
       "      <td>0.00</td>\n",
       "      <td>0.09</td>\n",
       "      <td>0.79</td>\n",
       "    </tr>\n",
       "    <tr>\n",
       "      <th>simple</th>\n",
       "      <td>1.0</td>\n",
       "      <td>0.04</td>\n",
       "      <td>0.04</td>\n",
       "      <td>0.03</td>\n",
       "      <td>0.05</td>\n",
       "      <td>0.01</td>\n",
       "      <td>0.08</td>\n",
       "      <td>0.75</td>\n",
       "    </tr>\n",
       "    <tr>\n",
       "      <th>code</th>\n",
       "      <td>1.0</td>\n",
       "      <td>0.03</td>\n",
       "      <td>0.03</td>\n",
       "      <td>0.02</td>\n",
       "      <td>0.02</td>\n",
       "      <td>0.02</td>\n",
       "      <td>0.02</td>\n",
       "      <td>0.86</td>\n",
       "    </tr>\n",
       "    <tr>\n",
       "      <th>api</th>\n",
       "      <td>1.0</td>\n",
       "      <td>0.22</td>\n",
       "      <td>0.07</td>\n",
       "      <td>0.02</td>\n",
       "      <td>0.00</td>\n",
       "      <td>0.01</td>\n",
       "      <td>0.04</td>\n",
       "      <td>0.64</td>\n",
       "    </tr>\n",
       "    <tr>\n",
       "      <th>file</th>\n",
       "      <td>1.0</td>\n",
       "      <td>0.03</td>\n",
       "      <td>0.05</td>\n",
       "      <td>0.04</td>\n",
       "      <td>0.05</td>\n",
       "      <td>0.01</td>\n",
       "      <td>0.04</td>\n",
       "      <td>0.79</td>\n",
       "    </tr>\n",
       "    <tr>\n",
       "      <th>json</th>\n",
       "      <td>1.0</td>\n",
       "      <td>0.05</td>\n",
       "      <td>0.19</td>\n",
       "      <td>0.01</td>\n",
       "      <td>0.04</td>\n",
       "      <td>0.04</td>\n",
       "      <td>0.10</td>\n",
       "      <td>0.58</td>\n",
       "    </tr>\n",
       "    <tr>\n",
       "      <th>framework</th>\n",
       "      <td>1.0</td>\n",
       "      <td>0.07</td>\n",
       "      <td>0.03</td>\n",
       "      <td>0.02</td>\n",
       "      <td>0.01</td>\n",
       "      <td>0.04</td>\n",
       "      <td>0.04</td>\n",
       "      <td>0.78</td>\n",
       "    </tr>\n",
       "    <tr>\n",
       "      <th>client</th>\n",
       "      <td>1.0</td>\n",
       "      <td>0.03</td>\n",
       "      <td>0.03</td>\n",
       "      <td>0.02</td>\n",
       "      <td>0.03</td>\n",
       "      <td>0.02</td>\n",
       "      <td>0.07</td>\n",
       "      <td>0.79</td>\n",
       "    </tr>\n",
       "    <tr>\n",
       "      <th>support</th>\n",
       "      <td>1.0</td>\n",
       "      <td>0.03</td>\n",
       "      <td>0.05</td>\n",
       "      <td>0.03</td>\n",
       "      <td>0.05</td>\n",
       "      <td>0.02</td>\n",
       "      <td>0.06</td>\n",
       "      <td>0.76</td>\n",
       "    </tr>\n",
       "    <tr>\n",
       "      <th>server</th>\n",
       "      <td>1.0</td>\n",
       "      <td>0.02</td>\n",
       "      <td>0.04</td>\n",
       "      <td>0.04</td>\n",
       "      <td>0.02</td>\n",
       "      <td>0.03</td>\n",
       "      <td>0.05</td>\n",
       "      <td>0.80</td>\n",
       "    </tr>\n",
       "    <tr>\n",
       "      <th>database</th>\n",
       "      <td>1.0</td>\n",
       "      <td>0.05</td>\n",
       "      <td>0.02</td>\n",
       "      <td>0.01</td>\n",
       "      <td>0.01</td>\n",
       "      <td>0.05</td>\n",
       "      <td>0.08</td>\n",
       "      <td>0.79</td>\n",
       "    </tr>\n",
       "    <tr>\n",
       "      <th>based</th>\n",
       "      <td>1.0</td>\n",
       "      <td>0.05</td>\n",
       "      <td>0.04</td>\n",
       "      <td>0.03</td>\n",
       "      <td>0.05</td>\n",
       "      <td>0.02</td>\n",
       "      <td>0.03</td>\n",
       "      <td>0.78</td>\n",
       "    </tr>\n",
       "    <tr>\n",
       "      <th>div</th>\n",
       "      <td>1.0</td>\n",
       "      <td>0.04</td>\n",
       "      <td>0.12</td>\n",
       "      <td>0.02</td>\n",
       "      <td>0.00</td>\n",
       "      <td>0.00</td>\n",
       "      <td>0.17</td>\n",
       "      <td>0.66</td>\n",
       "    </tr>\n",
       "    <tr>\n",
       "      <th>px</th>\n",
       "      <td>1.0</td>\n",
       "      <td>0.06</td>\n",
       "      <td>0.03</td>\n",
       "      <td>0.01</td>\n",
       "      <td>0.01</td>\n",
       "      <td>0.01</td>\n",
       "      <td>0.34</td>\n",
       "      <td>0.53</td>\n",
       "    </tr>\n",
       "  </tbody>\n",
       "</table>\n",
       "</div>"
      ],
      "text/plain": [
       "           all  python  javascript  html  shell  java    go  other\n",
       "go         1.0    0.00        0.01  0.01   0.01  0.00  0.42   0.55\n",
       "golang     1.0    0.01        0.00  0.01   0.01  0.00  0.46   0.51\n",
       "library    1.0    0.08        0.04  0.03   0.01  0.02  0.07   0.75\n",
       "tool       1.0    0.03        0.13  0.03   0.06  0.01  0.05   0.69\n",
       "package    1.0    0.03        0.03  0.02   0.01  0.00  0.07   0.84\n",
       "test       1.0    0.03        0.03  0.04   0.02  0.01  0.16   0.72\n",
       "content    1.0    0.04        0.03  0.03   0.01  0.00  0.09   0.79\n",
       "simple     1.0    0.04        0.04  0.03   0.05  0.01  0.08   0.75\n",
       "code       1.0    0.03        0.03  0.02   0.02  0.02  0.02   0.86\n",
       "api        1.0    0.22        0.07  0.02   0.00  0.01  0.04   0.64\n",
       "file       1.0    0.03        0.05  0.04   0.05  0.01  0.04   0.79\n",
       "json       1.0    0.05        0.19  0.01   0.04  0.04  0.10   0.58\n",
       "framework  1.0    0.07        0.03  0.02   0.01  0.04  0.04   0.78\n",
       "client     1.0    0.03        0.03  0.02   0.03  0.02  0.07   0.79\n",
       "support    1.0    0.03        0.05  0.03   0.05  0.02  0.06   0.76\n",
       "server     1.0    0.02        0.04  0.04   0.02  0.03  0.05   0.80\n",
       "database   1.0    0.05        0.02  0.01   0.01  0.05  0.08   0.79\n",
       "based      1.0    0.05        0.04  0.03   0.05  0.02  0.03   0.78\n",
       "div        1.0    0.04        0.12  0.02   0.00  0.00  0.17   0.66\n",
       "px         1.0    0.06        0.03  0.01   0.01  0.01  0.34   0.53"
      ]
     },
     "execution_count": 47,
     "metadata": {},
     "output_type": "execute_result"
    }
   ],
   "source": [
    "#look at the frequency of unique words per language\n",
    "word_counts.sort_values('go', ascending=False).head(20).apply(lambda row: row/row['all'], axis=1).round(2)"
   ]
  },
  {
   "cell_type": "code",
   "execution_count": 48,
   "id": "52a871c0-f3e0-4e9d-b758-bb76c247e44b",
   "metadata": {},
   "outputs": [
    {
     "data": {
      "text/html": [
       "<div>\n",
       "<style scoped>\n",
       "    .dataframe tbody tr th:only-of-type {\n",
       "        vertical-align: middle;\n",
       "    }\n",
       "\n",
       "    .dataframe tbody tr th {\n",
       "        vertical-align: top;\n",
       "    }\n",
       "\n",
       "    .dataframe thead th {\n",
       "        text-align: right;\n",
       "    }\n",
       "</style>\n",
       "<table border=\"1\" class=\"dataframe\">\n",
       "  <thead>\n",
       "    <tr style=\"text-align: right;\">\n",
       "      <th></th>\n",
       "      <th>all</th>\n",
       "      <th>python</th>\n",
       "      <th>javascript</th>\n",
       "      <th>html</th>\n",
       "      <th>shell</th>\n",
       "      <th>java</th>\n",
       "      <th>go</th>\n",
       "      <th>other</th>\n",
       "    </tr>\n",
       "  </thead>\n",
       "  <tbody>\n",
       "    <tr>\n",
       "      <th>go</th>\n",
       "      <td>8053</td>\n",
       "      <td>28</td>\n",
       "      <td>55</td>\n",
       "      <td>93</td>\n",
       "      <td>45</td>\n",
       "      <td>12</td>\n",
       "      <td>3385</td>\n",
       "      <td>4435</td>\n",
       "    </tr>\n",
       "    <tr>\n",
       "      <th>golang</th>\n",
       "      <td>1206</td>\n",
       "      <td>7</td>\n",
       "      <td>6</td>\n",
       "      <td>12</td>\n",
       "      <td>16</td>\n",
       "      <td>0</td>\n",
       "      <td>550</td>\n",
       "      <td>615</td>\n",
       "    </tr>\n",
       "    <tr>\n",
       "      <th>library</th>\n",
       "      <td>7061</td>\n",
       "      <td>533</td>\n",
       "      <td>261</td>\n",
       "      <td>236</td>\n",
       "      <td>37</td>\n",
       "      <td>176</td>\n",
       "      <td>512</td>\n",
       "      <td>5306</td>\n",
       "    </tr>\n",
       "    <tr>\n",
       "      <th>tool</th>\n",
       "      <td>6915</td>\n",
       "      <td>228</td>\n",
       "      <td>907</td>\n",
       "      <td>206</td>\n",
       "      <td>392</td>\n",
       "      <td>75</td>\n",
       "      <td>322</td>\n",
       "      <td>4785</td>\n",
       "    </tr>\n",
       "    <tr>\n",
       "      <th>package</th>\n",
       "      <td>4112</td>\n",
       "      <td>113</td>\n",
       "      <td>127</td>\n",
       "      <td>80</td>\n",
       "      <td>50</td>\n",
       "      <td>9</td>\n",
       "      <td>295</td>\n",
       "      <td>3438</td>\n",
       "    </tr>\n",
       "    <tr>\n",
       "      <th>test</th>\n",
       "      <td>1648</td>\n",
       "      <td>45</td>\n",
       "      <td>51</td>\n",
       "      <td>59</td>\n",
       "      <td>28</td>\n",
       "      <td>23</td>\n",
       "      <td>260</td>\n",
       "      <td>1182</td>\n",
       "    </tr>\n",
       "    <tr>\n",
       "      <th>content</th>\n",
       "      <td>2766</td>\n",
       "      <td>98</td>\n",
       "      <td>90</td>\n",
       "      <td>79</td>\n",
       "      <td>33</td>\n",
       "      <td>11</td>\n",
       "      <td>259</td>\n",
       "      <td>2196</td>\n",
       "    </tr>\n",
       "    <tr>\n",
       "      <th>simple</th>\n",
       "      <td>3097</td>\n",
       "      <td>132</td>\n",
       "      <td>120</td>\n",
       "      <td>80</td>\n",
       "      <td>170</td>\n",
       "      <td>44</td>\n",
       "      <td>234</td>\n",
       "      <td>2317</td>\n",
       "    </tr>\n",
       "    <tr>\n",
       "      <th>code</th>\n",
       "      <td>9299</td>\n",
       "      <td>299</td>\n",
       "      <td>282</td>\n",
       "      <td>183</td>\n",
       "      <td>144</td>\n",
       "      <td>199</td>\n",
       "      <td>212</td>\n",
       "      <td>7980</td>\n",
       "    </tr>\n",
       "    <tr>\n",
       "      <th>api</th>\n",
       "      <td>5174</td>\n",
       "      <td>1147</td>\n",
       "      <td>378</td>\n",
       "      <td>84</td>\n",
       "      <td>15</td>\n",
       "      <td>42</td>\n",
       "      <td>192</td>\n",
       "      <td>3316</td>\n",
       "    </tr>\n",
       "    <tr>\n",
       "      <th>file</th>\n",
       "      <td>4631</td>\n",
       "      <td>149</td>\n",
       "      <td>232</td>\n",
       "      <td>175</td>\n",
       "      <td>214</td>\n",
       "      <td>39</td>\n",
       "      <td>182</td>\n",
       "      <td>3640</td>\n",
       "    </tr>\n",
       "    <tr>\n",
       "      <th>json</th>\n",
       "      <td>1765</td>\n",
       "      <td>84</td>\n",
       "      <td>328</td>\n",
       "      <td>20</td>\n",
       "      <td>69</td>\n",
       "      <td>68</td>\n",
       "      <td>178</td>\n",
       "      <td>1018</td>\n",
       "    </tr>\n",
       "    <tr>\n",
       "      <th>framework</th>\n",
       "      <td>4318</td>\n",
       "      <td>304</td>\n",
       "      <td>143</td>\n",
       "      <td>92</td>\n",
       "      <td>62</td>\n",
       "      <td>174</td>\n",
       "      <td>161</td>\n",
       "      <td>3382</td>\n",
       "    </tr>\n",
       "    <tr>\n",
       "      <th>client</th>\n",
       "      <td>2220</td>\n",
       "      <td>75</td>\n",
       "      <td>72</td>\n",
       "      <td>42</td>\n",
       "      <td>60</td>\n",
       "      <td>54</td>\n",
       "      <td>155</td>\n",
       "      <td>1762</td>\n",
       "    </tr>\n",
       "    <tr>\n",
       "      <th>support</th>\n",
       "      <td>2722</td>\n",
       "      <td>89</td>\n",
       "      <td>130</td>\n",
       "      <td>90</td>\n",
       "      <td>132</td>\n",
       "      <td>68</td>\n",
       "      <td>155</td>\n",
       "      <td>2058</td>\n",
       "    </tr>\n",
       "    <tr>\n",
       "      <th>server</th>\n",
       "      <td>2953</td>\n",
       "      <td>70</td>\n",
       "      <td>109</td>\n",
       "      <td>109</td>\n",
       "      <td>69</td>\n",
       "      <td>75</td>\n",
       "      <td>147</td>\n",
       "      <td>2374</td>\n",
       "    </tr>\n",
       "    <tr>\n",
       "      <th>database</th>\n",
       "      <td>1886</td>\n",
       "      <td>98</td>\n",
       "      <td>32</td>\n",
       "      <td>21</td>\n",
       "      <td>19</td>\n",
       "      <td>89</td>\n",
       "      <td>143</td>\n",
       "      <td>1484</td>\n",
       "    </tr>\n",
       "    <tr>\n",
       "      <th>based</th>\n",
       "      <td>4218</td>\n",
       "      <td>212</td>\n",
       "      <td>178</td>\n",
       "      <td>135</td>\n",
       "      <td>193</td>\n",
       "      <td>70</td>\n",
       "      <td>138</td>\n",
       "      <td>3292</td>\n",
       "    </tr>\n",
       "    <tr>\n",
       "      <th>div</th>\n",
       "      <td>747</td>\n",
       "      <td>27</td>\n",
       "      <td>86</td>\n",
       "      <td>12</td>\n",
       "      <td>2</td>\n",
       "      <td>0</td>\n",
       "      <td>130</td>\n",
       "      <td>490</td>\n",
       "    </tr>\n",
       "    <tr>\n",
       "      <th>px</th>\n",
       "      <td>378</td>\n",
       "      <td>24</td>\n",
       "      <td>13</td>\n",
       "      <td>4</td>\n",
       "      <td>3</td>\n",
       "      <td>2</td>\n",
       "      <td>130</td>\n",
       "      <td>202</td>\n",
       "    </tr>\n",
       "  </tbody>\n",
       "</table>\n",
       "</div>"
      ],
      "text/plain": [
       "            all  python  javascript  html  shell  java    go  other\n",
       "go         8053      28          55    93     45    12  3385   4435\n",
       "golang     1206       7           6    12     16     0   550    615\n",
       "library    7061     533         261   236     37   176   512   5306\n",
       "tool       6915     228         907   206    392    75   322   4785\n",
       "package    4112     113         127    80     50     9   295   3438\n",
       "test       1648      45          51    59     28    23   260   1182\n",
       "content    2766      98          90    79     33    11   259   2196\n",
       "simple     3097     132         120    80    170    44   234   2317\n",
       "code       9299     299         282   183    144   199   212   7980\n",
       "api        5174    1147         378    84     15    42   192   3316\n",
       "file       4631     149         232   175    214    39   182   3640\n",
       "json       1765      84         328    20     69    68   178   1018\n",
       "framework  4318     304         143    92     62   174   161   3382\n",
       "client     2220      75          72    42     60    54   155   1762\n",
       "support    2722      89         130    90    132    68   155   2058\n",
       "server     2953      70         109   109     69    75   147   2374\n",
       "database   1886      98          32    21     19    89   143   1484\n",
       "based      4218     212         178   135    193    70   138   3292\n",
       "div         747      27          86    12      2     0   130    490\n",
       "px          378      24          13     4      3     2   130    202"
      ]
     },
     "execution_count": 48,
     "metadata": {},
     "output_type": "execute_result"
    }
   ],
   "source": [
    "#another way to look at it using counts\n",
    "word_counts.sort_values('go', ascending=False).head(20) # use a list to sort by more than one column!"
   ]
  },
  {
   "cell_type": "code",
   "execution_count": 49,
   "id": "9b3cb25b-fc09-4294-b1d3-cdb432e0b099",
   "metadata": {},
   "outputs": [
    {
     "data": {
      "image/png": "[encoded data removed]",
      "text/plain": [
       "<Figure size 1300x700 with 1 Axes>"
      ]
     },
     "metadata": {},
     "output_type": "display_data"
    }
   ],
   "source": [
    "#visualizing the top 20 words sorted on all but only displaying the ham and spam columns\n",
    "ex.unique_words(word_counts)"
   ]
  },
  {
   "cell_type": "markdown",
   "id": "2049268d-1070-45ad-9020-bd1736044d62",
   "metadata": {},
   "source": [
    "<div class=\"alert alert-success\">    \n",
    "\n",
    "### Insight: \n",
    "    \n",
    "**Note: The graph has excluded http as a word in order to visualize the other words better as http is an outlier**\n",
    "    \n",
    "The frequency of certain words does look like it can relate to specific languages. The above lists are sorted on the language 'go' and are only the top 20.\n",
    "    <br>\n",
    "* Python contains image, python, data, and code\n",
    "* JavaScript contains j, style, svg, and star\n",
    "* HTML contains python and html\n",
    "* Shell contains open and code\n",
    "* Java contains style, svg, and shield\n",
    "* Unsurprisingly, Go contains go \n",
    "    <br>\n",
    "\n",
    "Given more time, I would sort each column and make note of each languages top 20 words and would compare those against all findings.\n",
    "</div>"
   ]
  },
  {
   "cell_type": "code",
   "execution_count": 50,
   "id": "29186aeb-7d0f-49db-a43f-06c0500c39b1",
   "metadata": {},
   "outputs": [
    {
     "name": "stdout",
     "output_type": "stream",
     "text": [
      "baseline accuracy: 80.86%\n"
     ]
    }
   ],
   "source": [
    "#setting the baseline\n",
    "train['baseline_prediction'] = 'other'\n",
    "\n",
    "baseline_accuracy = (train.baseline_prediction == train.language).mean()\n",
    "\n",
    "print(f'baseline accuracy: {baseline_accuracy:.2%}')"
   ]
  },
  {
   "cell_type": "code",
   "execution_count": 51,
   "id": "97600675-88a6-4a60-93fe-99fad495aba4",
   "metadata": {},
   "outputs": [],
   "source": [
    "#assign variables\n",
    "X_train, y_train, X_validate, y_validate, X_test, y_test = ev.assign_variables(train, validate, test)"
   ]
  },
  {
   "cell_type": "code",
   "execution_count": 52,
   "id": "966d2acf-cf83-4ff5-a1e1-a1c4b5cac272",
   "metadata": {},
   "outputs": [],
   "source": [
    "#make my bag of words\n",
    "X_bow, X_validate_bow, X_test_bow = ev.make_variable_bag_o_words(X_train, X_validate, X_test)"
   ]
  },
  {
   "cell_type": "markdown",
   "id": "0df25943-1918-4aaa-b4db-a59de8f9547f",
   "metadata": {
    "tags": []
   },
   "source": [
    "# `Modeling`"
   ]
  },
  {
   "cell_type": "code",
   "execution_count": 53,
   "id": "0886465f-9de2-476f-9a7e-7c7f0b5f1750",
   "metadata": {},
   "outputs": [
    {
     "name": "stdout",
     "output_type": "stream",
     "text": [
      "Decision Tree / Max Depth = 3: `train` accuracy: 83.00%\n",
      "Decision Tree / Max Depth = 3: `validate` accuracy: 80.00%\n"
     ]
    }
   ],
   "source": [
    "ev.model_one(X_bow, y_train, X_validate_bow, y_validate)"
   ]
  },
  {
   "cell_type": "code",
   "execution_count": 54,
   "id": "a26443a0-079f-4e99-92cd-a8e476df519d",
   "metadata": {},
   "outputs": [
    {
     "name": "stdout",
     "output_type": "stream",
     "text": [
      "KNN / Neighbors = 5: `train` accuracy: 82.00%\n",
      "KNN / Neighbors = 5: `validate` accuracy: 79.00%\n"
     ]
    }
   ],
   "source": [
    "ev.model_two(X_bow, y_train, X_validate_bow, y_validate)"
   ]
  },
  {
   "cell_type": "code",
   "execution_count": 55,
   "id": "19725404-920e-4218-844a-62c166bcb20d",
   "metadata": {},
   "outputs": [
    {
     "name": "stdout",
     "output_type": "stream",
     "text": [
      "KNN / Neighbors = 9: `train` accuracy: 82.00%\n",
      "KNN / Neighbors = 9: `validate` accuracy: 82.00%\n"
     ]
    }
   ],
   "source": [
    "ev.model_three(X_bow, y_train, X_validate_bow, y_validate)"
   ]
  },
  {
   "cell_type": "markdown",
   "id": "3971095b-0706-426b-bc60-7b5bef4095f4",
   "metadata": {},
   "source": [
    "## TEST"
   ]
  },
  {
   "cell_type": "code",
   "execution_count": 34,
   "id": "5bee66e3-a203-4ce4-a83d-106d31895394",
   "metadata": {},
   "outputs": [],
   "source": [
    "# ev.test_model(X_bow, y_train, X_test_bow, y_test)"
   ]
  },
  {
   "cell_type": "markdown",
   "id": "9793db8c",
   "metadata": {
    "tags": []
   },
   "source": [
    "# `Conclusion`"
   ]
  },
  {
   "cell_type": "markdown",
   "id": "dbcf2845",
   "metadata": {},
   "source": [
    "<div class=\"alert alert-success\">    \n",
    " \n",
    "### Explore: \n",
    "    \n",
    "---\n",
    "    \n",
    "We asked the following questions:\n",
    "<br>\n",
    "1. What are the most common words in READMEs?\n",
    "2. Does the length of the README vary by programming language?\n",
    "3. Do different programming languages use a different number of unique words?\n",
    "4. Are there any words that uniquely identify a programming language?\n",
    "<br>\n",
    "    \n",
    "The discoveries are as follows:\n",
    "<br>\n",
    "1. http is the highest, with more time we would also remove that word during cleaning to be able to interpret the other words better as it is an outlier.\n",
    "    * img came in as the second highest word\n",
    "    * The rest of the top 20 words: code, awesome, source, star, data, web, tool, library, href, shield, open, go, svg, html, style, badge, python, image\n",
    "  \n",
    "    <br>\n",
    "    \n",
    "2. The average length of readmes by language varied but not significanly.\n",
    "    * Go seemed to have a spike though, but not significant.\n",
    "    \n",
    "<br>   \n",
    "    \n",
    "3. The number of unqiue words per langugage is only slightly different.\n",
    "    * Python has the highest with 272\n",
    "    * Java has the least with 125.\n",
    "\n",
    "    <br>  \n",
    "4. The frequency of certain words does look like it can relate to specific languages. \n",
    "**note: our exploration was sorted on the language 'go' and only pulled the top 20.**\n",
    "    * Python contains library and api\n",
    "    * Python contains image, python, data, and code\n",
    "    * JavaScript contains j, style, svg, and star\n",
    "    * HTML contains python and html\n",
    "    * Shell contains open and code\n",
    "    * Java contains style, svg, and shield\n",
    "    * Unsurprisingly, Go contains go \n",
    "<br>\n",
    "    \n",
    "---\n",
    "\n",
    "### Modeling: \n",
    "    \n",
    "---\n",
    "    \n",
    "Models Selected: \n",
    "    \n",
    "**Baseline: 80.86%**\n",
    "    \n",
    "* Decision Tree\n",
    "    * Depth of 3\n",
    "        * Train Accuracy: 83%\n",
    "        * Validate Accuracy: 80%\n",
    "\n",
    "    <br>\n",
    "    \n",
    "* KNN \n",
    "    * Neighbors of 5\n",
    "        * Train Accuracy: 82%\n",
    "        * Validate Accuracy: 79%\n",
    "    * Neighbors of 9\n",
    "        * Train Accuracy: 82%\n",
    "        * Validate Accuracy: 82%\n",
    "\n",
    "* KNN, n=9 chosen for test because it was the only model that didn't fail on validate:\n",
    "    * **Test Accuracy: 82%**\n",
    "\n",
    "---   \n",
    "</div>"
   ]
  },
  {
   "cell_type": "markdown",
   "id": "7ca1cfe3",
   "metadata": {
    "tags": []
   },
   "source": [
    "# `Recommendations/Next Steps`"
   ]
  },
  {
   "cell_type": "markdown",
   "id": "b57230f4-5761-409f-98eb-492c65688cf5",
   "metadata": {},
   "source": [
    "<div class=\"alert alert-success\">   \n",
    "    \n",
    "We would create a column identifying the project type of each repo. Create a feature on github where individuals have to identify the subject that their project is looking into. This may involve user experience and interface engineers.\n",
    "    \n",
    "</div>    "
   ]
  }
 ],
 "metadata": {
  "kernelspec": {
   "display_name": "Python 3 (ipykernel)",
   "language": "python",
   "name": "python3"
  },
  "language_info": {
   "codemirror_mode": {
    "name": "ipython",
    "version": 3
   },
   "file_extension": ".py",
   "mimetype": "text/x-python",
   "name": "python",
   "nbconvert_exporter": "python",
   "pygments_lexer": "ipython3",
   "version": "3.9.13"
  }
 },
 "nbformat": 4,
 "nbformat_minor": 5
}
