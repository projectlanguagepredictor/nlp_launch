{
 "cells": [
  {
   "cell_type": "markdown",
   "id": "9a6b11c4",
   "metadata": {},
   "source": [
    "# NLP Launch: Natural Language Predictor Project"
   ]
  },
  {
   "cell_type": "markdown",
   "id": "4e9eaaac",
   "metadata": {},
   "source": [
    "## Goal: \n",
    "* The project goal is to predict which programming language is used based solely on GitHub README's. \n",
    "* This analysis aims to address the listed questions and uncover any additional important findings related goal."
   ]
  },
  {
   "cell_type": "markdown",
   "id": "d4962439",
   "metadata": {},
   "source": [
    "## Imports"
   ]
  },
  {
   "cell_type": "code",
   "execution_count": 1,
   "id": "d815a0f8",
   "metadata": {},
   "outputs": [
    {
     "name": "stdout",
     "output_type": "stream",
     "text": [
      "Imports Successful\n"
     ]
    }
   ],
   "source": [
    "#.py modules\n",
    "import acquire as ac\n",
    "# import explore as ex\n",
    "\n",
    "#numbers\n",
    "import pandas as pd\n",
    "import numpy as np\n",
    "\n",
    "#vizzes\n",
    "import matplotlib.pyplot as plt\n",
    "import seaborn as sns"
   ]
  },
  {
   "cell_type": "markdown",
   "id": "fe383836",
   "metadata": {},
   "source": [
    "> # `Acquire`"
   ]
  },
  {
   "cell_type": "markdown",
   "id": "293fb904",
   "metadata": {},
   "source": [
    "### Acquire\n",
    "* Data acquired from GitHub using webscraping techniques\n",
    "* Shape before cleaning\n",
    "* Shape after cleaning"
   ]
  },
  {
   "cell_type": "markdown",
   "id": "52f349b8",
   "metadata": {},
   "source": [
    "\n",
    "### Data Dictionary"
   ]
  },
  {
   "cell_type": "markdown",
   "id": "5e7af5c5",
   "metadata": {},
   "source": [
    "| Feature | Definition|\n",
    "|:--------|:-----------|\n",
    "|repo| The 'author name/repo name' of the repo|\n",
    "|language| The repo language used|\n",
    "|readme_contents| The contents of the entire README from each site|\n",
    "|clean| The cleaned version of readme_contents|\n",
    "|lemma| The lemmatized version of the clean column|"
   ]
  },
  {
   "cell_type": "code",
   "execution_count": 18,
   "id": "d3eb2022",
   "metadata": {},
   "outputs": [],
   "source": [
    "# #acquiring\n"
   ]
  },
  {
   "cell_type": "code",
   "execution_count": 1,
   "id": "a6a4e35b-481a-4ff9-8654-d541fbfb1e8a",
   "metadata": {},
   "outputs": [],
   "source": [
    "# #quick peek\n",
    "# df.head()"
   ]
  },
  {
   "cell_type": "code",
   "execution_count": 2,
   "id": "390e3ad4-90de-471d-ac74-81ecc6f8e7ed",
   "metadata": {},
   "outputs": [],
   "source": [
    "# #descriptive statistics\n",
    "# df.describe()"
   ]
  },
  {
   "cell_type": "code",
   "execution_count": null,
   "id": "98905d8b-c75b-4b14-b5af-f94582f64355",
   "metadata": {},
   "outputs": [],
   "source": [
    "# #df shape\n",
    "# df.shape"
   ]
  },
  {
   "cell_type": "markdown",
   "id": "35088ea5-7ed2-4abf-b862-96c457659ea6",
   "metadata": {},
   "source": [
    "> # `Prepare`"
   ]
  },
  {
   "cell_type": "markdown",
   "id": "fb256470",
   "metadata": {
    "tags": []
   },
   "source": [
    "### Prepare\n",
    "* Prepare\n",
    "    * dropped columns\n",
    "        * insert\n",
    "    * renamed columns\n",
    "        * insert\n",
    "        * insert\n",
    "        * insert\n",
    "    * changed dates to datetime type\n",
    "    * created new columns\n",
    "        * insert\n",
    "        * insert\n",
    "        * insert\n",
    "    * no nulls"
   ]
  },
  {
   "cell_type": "code",
   "execution_count": null,
   "id": "1f155792-c930-40d0-8c9d-46a1be4176e8",
   "metadata": {},
   "outputs": [],
   "source": [
    "# #prepare\n"
   ]
  },
  {
   "cell_type": "code",
   "execution_count": null,
   "id": "1b93d38b-94e6-4d35-b669-6cfb479f7426",
   "metadata": {},
   "outputs": [],
   "source": [
    "# #clean\n"
   ]
  },
  {
   "cell_type": "code",
   "execution_count": null,
   "id": "5a0bbe91-6633-4235-b788-ca16a29861cc",
   "metadata": {},
   "outputs": [],
   "source": [
    "# #quick peek\n"
   ]
  },
  {
   "cell_type": "code",
   "execution_count": 20,
   "id": "a0d485d4-0050-41c2-9b83-37887f3b21df",
   "metadata": {},
   "outputs": [],
   "source": [
    "# #univariate exploration?\n"
   ]
  },
  {
   "cell_type": "code",
   "execution_count": 21,
   "id": "bd0511b9-b05f-4d29-a869-320420bd95b0",
   "metadata": {},
   "outputs": [],
   "source": [
    "# #distributions\n"
   ]
  },
  {
   "cell_type": "markdown",
   "id": "d39e2f6f",
   "metadata": {},
   "source": [
    "> # `Explore`"
   ]
  },
  {
   "cell_type": "markdown",
   "id": "bd991117",
   "metadata": {},
   "source": [
    "### Questions To Answer:\n",
    "1. What are the most common words in READMEs?\n",
    "2. Does the length of the README vary by programming language?\n",
    "3. Do different programming languages use a different number of unique words?\n",
    "4. Are there any words that uniquely identify a programming language?"
   ]
  },
  {
   "cell_type": "markdown",
   "id": "e921a975",
   "metadata": {
    "tags": []
   },
   "source": [
    "## 1. What are the most common words in READMEs?"
   ]
  },
  {
   "cell_type": "code",
   "execution_count": 3,
   "id": "76f82f8d-efe1-4834-a026-57f5455a32fa",
   "metadata": {
    "tags": []
   },
   "outputs": [],
   "source": [
    "# #visualize the most used words\n"
   ]
  },
  {
   "cell_type": "code",
   "execution_count": 16,
   "id": "0026ea9c-0b92-4c83-9326-784df8d844f1",
   "metadata": {},
   "outputs": [],
   "source": [
    "# #hypothesize\n"
   ]
  },
  {
   "cell_type": "code",
   "execution_count": null,
   "id": "c71f9413-79c2-4036-ad5c-348086468b0f",
   "metadata": {},
   "outputs": [],
   "source": [
    "# #analyze?\n"
   ]
  },
  {
   "cell_type": "markdown",
   "id": "84011cfa-eec2-4221-8fc0-179fab6bbb22",
   "metadata": {},
   "source": [
    "### Insight:\n",
    "\n",
    "<br>\n",
    "\n",
    "<br>\n"
   ]
  },
  {
   "cell_type": "markdown",
   "id": "07d7f8ba",
   "metadata": {
    "tags": []
   },
   "source": [
    "## 2. Does the length of the README vary by programming language?"
   ]
  },
  {
   "cell_type": "code",
   "execution_count": 4,
   "id": "f9d16d4b-4abc-453f-92e0-eded89a8d27c",
   "metadata": {},
   "outputs": [],
   "source": [
    "# #visualize the lengths of readmes against labels\n"
   ]
  },
  {
   "cell_type": "code",
   "execution_count": null,
   "id": "7b2fcc47-8bb6-41ab-9ff2-fe5e69c57447",
   "metadata": {},
   "outputs": [],
   "source": [
    "# #hypothesize\n"
   ]
  },
  {
   "cell_type": "code",
   "execution_count": 15,
   "id": "70dc8891-30a1-423a-a2c3-a091f3d4a95a",
   "metadata": {},
   "outputs": [],
   "source": [
    "# #analyze?\n"
   ]
  },
  {
   "cell_type": "markdown",
   "id": "3f9b48cb-157e-4157-90e4-775ff19927cc",
   "metadata": {},
   "source": [
    "### Insight:\n",
    "\n",
    "<br>\n",
    "\n",
    "<br>"
   ]
  },
  {
   "cell_type": "markdown",
   "id": "07ee9611",
   "metadata": {
    "tags": []
   },
   "source": [
    "## 3. Do different programming languages use a different number of unique words?"
   ]
  },
  {
   "cell_type": "code",
   "execution_count": 22,
   "id": "b7eb1142-3693-4a80-bfd9-8d4890862a3c",
   "metadata": {},
   "outputs": [],
   "source": [
    "# #visualize number of unique words per label\n"
   ]
  },
  {
   "cell_type": "code",
   "execution_count": 10,
   "id": "bd296708-a78f-4a97-ad36-d4f692cc94b6",
   "metadata": {},
   "outputs": [],
   "source": [
    "# #hypothesize\n"
   ]
  },
  {
   "cell_type": "code",
   "execution_count": 11,
   "id": "38665692-bade-4873-a978-b8f37e7b901c",
   "metadata": {},
   "outputs": [],
   "source": [
    "# #analyze?\n"
   ]
  },
  {
   "cell_type": "markdown",
   "id": "44851ce3-1416-46bb-a804-39a5d0cdf482",
   "metadata": {},
   "source": [
    "### Insight:\n",
    "\n",
    "<br>\n",
    "\n",
    "<br>"
   ]
  },
  {
   "cell_type": "markdown",
   "id": "ba80faee",
   "metadata": {
    "tags": []
   },
   "source": [
    "## 4. Are there any words that uniquely identify a programming language?"
   ]
  },
  {
   "cell_type": "code",
   "execution_count": 23,
   "id": "9b3cb25b-fc09-4294-b1d3-cdb432e0b099",
   "metadata": {},
   "outputs": [],
   "source": [
    "# #visualize top words per label\n"
   ]
  },
  {
   "cell_type": "code",
   "execution_count": 13,
   "id": "d68ebfe9-ec9d-4df7-b853-25bb0a8890cb",
   "metadata": {},
   "outputs": [],
   "source": [
    "# #hypothesize\n"
   ]
  },
  {
   "cell_type": "code",
   "execution_count": 17,
   "id": "89713ec6-c86f-429d-9c5c-625afbc5510e",
   "metadata": {},
   "outputs": [],
   "source": [
    "# #analyze?\n"
   ]
  },
  {
   "cell_type": "markdown",
   "id": "edbad022-477c-41cb-9d25-80b26c0b8ec9",
   "metadata": {},
   "source": [
    "### Insight:\n",
    "\n",
    "<br>\n",
    "\n",
    "<br>"
   ]
  },
  {
   "cell_type": "markdown",
   "id": "9793db8c",
   "metadata": {},
   "source": [
    "> # `Conclusion`"
   ]
  },
  {
   "cell_type": "markdown",
   "id": "dbcf2845",
   "metadata": {},
   "source": [
    "## Explore\n",
    "\n",
    "* \n",
    "* \n",
    "* \n",
    "* \n",
    "* \n",
    "* "
   ]
  },
  {
   "cell_type": "markdown",
   "id": "7ca1cfe3",
   "metadata": {},
   "source": [
    "> # `Recommendations/Next Steps`\n",
    "\n",
    "* \n",
    "* \n",
    "* "
   ]
  }
 ],
 "metadata": {
  "kernelspec": {
   "display_name": "Python 3 (ipykernel)",
   "language": "python",
   "name": "python3"
  },
  "language_info": {
   "codemirror_mode": {
    "name": "ipython",
    "version": 3
   },
   "file_extension": ".py",
   "mimetype": "text/x-python",
   "name": "python",
   "nbconvert_exporter": "python",
   "pygments_lexer": "ipython3",
   "version": "3.9.13"
  }
 },
 "nbformat": 4,
 "nbformat_minor": 5
}
