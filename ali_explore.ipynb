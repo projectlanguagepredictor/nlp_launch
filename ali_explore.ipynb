{
 "cells": [
  {
   "cell_type": "markdown",
   "id": "2cce277b-22d1-4512-b0b0-513fa2e1b163",
   "metadata": {},
   "source": [
    "> # Imports"
   ]
  },
  {
   "cell_type": "code",
   "execution_count": 1,
   "id": "6dc2514c-aa64-4839-b82c-16989c6c00d2",
   "metadata": {},
   "outputs": [],
   "source": [
    "import acquire as ac"
   ]
  },
  {
   "cell_type": "markdown",
   "id": "6e867757-dbfb-4bb5-8608-c31723d3c8a4",
   "metadata": {},
   "source": [
    "> # Acquire"
   ]
  },
  {
   "cell_type": "code",
   "execution_count": null,
   "id": "486c3422-8d64-4067-94f2-e414ce54ecc7",
   "metadata": {},
   "outputs": [],
   "source": []
  }
 ],
 "metadata": {
  "kernelspec": {
   "display_name": "Python 3 (ipykernel)",
   "language": "python",
   "name": "python3"
  },
  "language_info": {
   "codemirror_mode": {
    "name": "ipython",
    "version": 3
   },
   "file_extension": ".py",
   "mimetype": "text/x-python",
   "name": "python",
   "nbconvert_exporter": "python",
   "pygments_lexer": "ipython3",
   "version": "3.9.13"
  }
 },
 "nbformat": 4,
 "nbformat_minor": 5
}
